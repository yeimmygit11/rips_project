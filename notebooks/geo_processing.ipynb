{
 "cells": [
  {
   "cell_type": "code",
   "execution_count": 22,
   "id": "a48151fe",
   "metadata": {},
   "outputs": [],
   "source": [
    "import pandas as pd\n",
    "from pathlib import Path"
   ]
  },
  {
   "cell_type": "code",
   "execution_count": 23,
   "id": "09b739ed",
   "metadata": {},
   "outputs": [],
   "source": [
    "BASE_DIR = Path().resolve().parents[0] \n",
    "csv_path = BASE_DIR / 'data' / 'raw' / 'raw_geo_municipios.csv'\n",
    "out_csv_path = BASE_DIR / 'data' / 'external' / 'geo_refs.csv'\n",
    "\n",
    "\n"
   ]
  },
  {
   "cell_type": "code",
   "execution_count": 24,
   "id": "22d8ef72",
   "metadata": {},
   "outputs": [
    {
     "data": {
      "text/html": [
       "<div>\n",
       "<style scoped>\n",
       "    .dataframe tbody tr th:only-of-type {\n",
       "        vertical-align: middle;\n",
       "    }\n",
       "\n",
       "    .dataframe tbody tr th {\n",
       "        vertical-align: top;\n",
       "    }\n",
       "\n",
       "    .dataframe thead th {\n",
       "        text-align: right;\n",
       "    }\n",
       "</style>\n",
       "<table border=\"1\" class=\"dataframe\">\n",
       "  <thead>\n",
       "    <tr style=\"text-align: right;\">\n",
       "      <th></th>\n",
       "      <th>cod_dpto</th>\n",
       "      <th>nom_dpto</th>\n",
       "      <th>cod_mpio</th>\n",
       "      <th>nom_mpio</th>\n",
       "      <th>tipo</th>\n",
       "      <th>latitud</th>\n",
       "      <th>longitud</th>\n",
       "      <th>geo_municipio</th>\n",
       "    </tr>\n",
       "  </thead>\n",
       "  <tbody>\n",
       "    <tr>\n",
       "      <th>0</th>\n",
       "      <td>5</td>\n",
       "      <td>ANTIOQUIA</td>\n",
       "      <td>5001</td>\n",
       "      <td>MEDELLÍN</td>\n",
       "      <td>Municipio</td>\n",
       "      <td>6.257590</td>\n",
       "      <td>-75.611031</td>\n",
       "      <td>{'type': 'Point', 'coordinates': [-75.61103107...</td>\n",
       "    </tr>\n",
       "    <tr>\n",
       "      <th>1</th>\n",
       "      <td>5</td>\n",
       "      <td>ANTIOQUIA</td>\n",
       "      <td>5002</td>\n",
       "      <td>ABEJORRAL</td>\n",
       "      <td>Municipio</td>\n",
       "      <td>5.803728</td>\n",
       "      <td>-75.438474</td>\n",
       "      <td>{'type': 'Point', 'coordinates': [-75.43847353...</td>\n",
       "    </tr>\n",
       "    <tr>\n",
       "      <th>2</th>\n",
       "      <td>5</td>\n",
       "      <td>ANTIOQUIA</td>\n",
       "      <td>5004</td>\n",
       "      <td>ABRIAQUÍ</td>\n",
       "      <td>Municipio</td>\n",
       "      <td>6.627569</td>\n",
       "      <td>-76.085978</td>\n",
       "      <td>{'type': 'Point', 'coordinates': [-76.08597756...</td>\n",
       "    </tr>\n",
       "    <tr>\n",
       "      <th>3</th>\n",
       "      <td>5</td>\n",
       "      <td>ANTIOQUIA</td>\n",
       "      <td>5021</td>\n",
       "      <td>ALEJANDRÍA</td>\n",
       "      <td>Municipio</td>\n",
       "      <td>6.365534</td>\n",
       "      <td>-75.090597</td>\n",
       "      <td>{'type': 'Point', 'coordinates': [-75.09059702...</td>\n",
       "    </tr>\n",
       "    <tr>\n",
       "      <th>4</th>\n",
       "      <td>5</td>\n",
       "      <td>ANTIOQUIA</td>\n",
       "      <td>5030</td>\n",
       "      <td>AMAGÁ</td>\n",
       "      <td>Municipio</td>\n",
       "      <td>6.032922</td>\n",
       "      <td>-75.708003</td>\n",
       "      <td>{'type': 'Point', 'coordinates': [-75.7080031,...</td>\n",
       "    </tr>\n",
       "  </tbody>\n",
       "</table>\n",
       "</div>"
      ],
      "text/plain": [
       "   cod_dpto   nom_dpto  cod_mpio    nom_mpio       tipo   latitud   longitud  \\\n",
       "0         5  ANTIOQUIA      5001    MEDELLÍN  Municipio  6.257590 -75.611031   \n",
       "1         5  ANTIOQUIA      5002   ABEJORRAL  Municipio  5.803728 -75.438474   \n",
       "2         5  ANTIOQUIA      5004    ABRIAQUÍ  Municipio  6.627569 -76.085978   \n",
       "3         5  ANTIOQUIA      5021  ALEJANDRÍA  Municipio  6.365534 -75.090597   \n",
       "4         5  ANTIOQUIA      5030       AMAGÁ  Municipio  6.032922 -75.708003   \n",
       "\n",
       "                                       geo_municipio  \n",
       "0  {'type': 'Point', 'coordinates': [-75.61103107...  \n",
       "1  {'type': 'Point', 'coordinates': [-75.43847353...  \n",
       "2  {'type': 'Point', 'coordinates': [-76.08597756...  \n",
       "3  {'type': 'Point', 'coordinates': [-75.09059702...  \n",
       "4  {'type': 'Point', 'coordinates': [-75.7080031,...  "
      ]
     },
     "execution_count": 24,
     "metadata": {},
     "output_type": "execute_result"
    }
   ],
   "source": [
    "# Read Csv\n",
    "df = pd.read_csv(csv_path)\n",
    "df.head()"
   ]
  },
  {
   "cell_type": "code",
   "execution_count": 25,
   "id": "d01775e5",
   "metadata": {},
   "outputs": [
    {
     "name": "stdout",
     "output_type": "stream",
     "text": [
      "(1121, 8)\n",
      "<class 'pandas.core.frame.DataFrame'>\n",
      "RangeIndex: 1121 entries, 0 to 1120\n",
      "Data columns (total 8 columns):\n",
      " #   Column         Non-Null Count  Dtype  \n",
      "---  ------         --------------  -----  \n",
      " 0   cod_dpto       1121 non-null   int64  \n",
      " 1   nom_dpto       1121 non-null   object \n",
      " 2   cod_mpio       1121 non-null   int64  \n",
      " 3   nom_mpio       1121 non-null   object \n",
      " 4   tipo           1121 non-null   object \n",
      " 5   latitud        1121 non-null   float64\n",
      " 6   longitud       1121 non-null   float64\n",
      " 7   geo_municipio  1121 non-null   object \n",
      "dtypes: float64(2), int64(2), object(4)\n",
      "memory usage: 70.2+ KB\n"
     ]
    }
   ],
   "source": [
    "print(df.shape)\n",
    "df.info()"
   ]
  },
  {
   "cell_type": "code",
   "execution_count": 26,
   "id": "a30ea09e",
   "metadata": {},
   "outputs": [
    {
     "data": {
      "text/plain": [
       "cod_dpto         0\n",
       "nom_dpto         0\n",
       "cod_mpio         0\n",
       "nom_mpio         0\n",
       "tipo             0\n",
       "latitud          0\n",
       "longitud         0\n",
       "geo_municipio    0\n",
       "dtype: int64"
      ]
     },
     "execution_count": 26,
     "metadata": {},
     "output_type": "execute_result"
    }
   ],
   "source": [
    "df.isna().sum().sort_values(ascending = False)"
   ]
  },
  {
   "cell_type": "markdown",
   "id": "155965c2",
   "metadata": {},
   "source": [
    "The CSV seem to be pretty good, no errors and no nan values.\n"
   ]
  },
  {
   "cell_type": "code",
   "execution_count": 29,
   "id": "1d7d5f0a",
   "metadata": {},
   "outputs": [],
   "source": [
    "#Filtering only Antioquia\n",
    "df = df[df['cod_dpto'] == 5] "
   ]
  },
  {
   "cell_type": "code",
   "execution_count": 30,
   "id": "b5a2b047",
   "metadata": {},
   "outputs": [
    {
     "name": "stdout",
     "output_type": "stream",
     "text": [
      "\n",
      "✅ Processed file saved at:\n",
      "/home/ym0r4l3s/projects/RIPS_Project/rips_project/data/external/geo_refs.csv\n"
     ]
    }
   ],
   "source": [
    "df.to_csv(out_csv_path, index=False, encoding='utf-8')\n",
    "print(f\"\\n✅ Processed file saved at:\\n{out_csv_path}\")"
   ]
  }
 ],
 "metadata": {
  "kernelspec": {
   "display_name": "env",
   "language": "python",
   "name": "python3"
  },
  "language_info": {
   "codemirror_mode": {
    "name": "ipython",
    "version": 3
   },
   "file_extension": ".py",
   "mimetype": "text/x-python",
   "name": "python",
   "nbconvert_exporter": "python",
   "pygments_lexer": "ipython3",
   "version": "3.10.12"
  }
 },
 "nbformat": 4,
 "nbformat_minor": 5
}
