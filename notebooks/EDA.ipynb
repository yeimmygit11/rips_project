{
 "cells": [
  {
   "cell_type": "code",
   "execution_count": 1,
   "id": "2f1d5c26",
   "metadata": {},
   "outputs": [],
   "source": [
    "import pandas as pd\n",
    "import numpy as np\n",
    "import matplotlib.pyplot as plt\n",
    "import os\n",
    "from math import ceil\n",
    "import seaborn as sns\n",
    "import plotly.express as px"
   ]
  },
  {
   "cell_type": "code",
   "execution_count": 2,
   "id": "2d89c141",
   "metadata": {},
   "outputs": [],
   "source": [
    "#Define paths \n",
    "\n",
    "csv_path = os.path.abspath(\n",
    "    os.path.join(\"..\", \"data\", \"processed\", \"05_-_Antioquia_2021_processed.csv\")\n",
    ")\n",
    "\n",
    "geo_csv_path = os.path.abspath(\n",
    "    os.path.join(\"..\", \"data\", \"external\", \"geo_refs.csv\")\n",
    ")\n"
   ]
  },
  {
   "cell_type": "code",
   "execution_count": 3,
   "id": "f3f32ea2",
   "metadata": {},
   "outputs": [
    {
     "data": {
      "text/html": [
       "<div>\n",
       "<style scoped>\n",
       "    .dataframe tbody tr th:only-of-type {\n",
       "        vertical-align: middle;\n",
       "    }\n",
       "\n",
       "    .dataframe tbody tr th {\n",
       "        vertical-align: top;\n",
       "    }\n",
       "\n",
       "    .dataframe thead th {\n",
       "        text-align: right;\n",
       "    }\n",
       "</style>\n",
       "<table border=\"1\" class=\"dataframe\">\n",
       "  <thead>\n",
       "    <tr style=\"text-align: right;\">\n",
       "      <th></th>\n",
       "      <th>a_o</th>\n",
       "      <th>tipoatencion</th>\n",
       "      <th>numeroatenciones</th>\n",
       "      <th>codigo_departamento</th>\n",
       "      <th>nombre_departamento</th>\n",
       "      <th>codigo_municipio</th>\n",
       "      <th>nombre_municipio</th>\n",
       "      <th>codigo_diagnostico</th>\n",
       "      <th>n_diagnostico</th>\n",
       "    </tr>\n",
       "  </thead>\n",
       "  <tbody>\n",
       "    <tr>\n",
       "      <th>0</th>\n",
       "      <td>2021</td>\n",
       "      <td>CONSULTAS</td>\n",
       "      <td>1</td>\n",
       "      <td>5</td>\n",
       "      <td>Antioquia</td>\n",
       "      <td>5501</td>\n",
       "      <td>Olaya</td>\n",
       "      <td>E02X</td>\n",
       "      <td>HIPOTIROIDISMO SUBCLINICO POR DEFICIENCIA DE YODO</td>\n",
       "    </tr>\n",
       "    <tr>\n",
       "      <th>1</th>\n",
       "      <td>2021</td>\n",
       "      <td>CONSULTAS</td>\n",
       "      <td>1</td>\n",
       "      <td>5</td>\n",
       "      <td>Antioquia</td>\n",
       "      <td>5501</td>\n",
       "      <td>Olaya</td>\n",
       "      <td>F069</td>\n",
       "      <td>TRASTORNO MENTAL NO ESPECIFICADO DEBIDO A LESI...</td>\n",
       "    </tr>\n",
       "    <tr>\n",
       "      <th>2</th>\n",
       "      <td>2021</td>\n",
       "      <td>CONSULTAS</td>\n",
       "      <td>1</td>\n",
       "      <td>5</td>\n",
       "      <td>Antioquia</td>\n",
       "      <td>5501</td>\n",
       "      <td>Olaya</td>\n",
       "      <td>F412</td>\n",
       "      <td>TRASTORNO MIXTO DE ANSIEDAD Y DEPRESION</td>\n",
       "    </tr>\n",
       "    <tr>\n",
       "      <th>3</th>\n",
       "      <td>2021</td>\n",
       "      <td>CONSULTAS</td>\n",
       "      <td>1</td>\n",
       "      <td>5</td>\n",
       "      <td>Antioquia</td>\n",
       "      <td>5501</td>\n",
       "      <td>Olaya</td>\n",
       "      <td>F510</td>\n",
       "      <td>INSOMNIO NO ORGANICO</td>\n",
       "    </tr>\n",
       "    <tr>\n",
       "      <th>4</th>\n",
       "      <td>2021</td>\n",
       "      <td>CONSULTAS</td>\n",
       "      <td>1</td>\n",
       "      <td>5</td>\n",
       "      <td>Antioquia</td>\n",
       "      <td>5501</td>\n",
       "      <td>Olaya</td>\n",
       "      <td>F529</td>\n",
       "      <td>DISFUNCION SEXUAL, NO OCASIONADA POR TRASTORNO...</td>\n",
       "    </tr>\n",
       "  </tbody>\n",
       "</table>\n",
       "</div>"
      ],
      "text/plain": [
       "    a_o tipoatencion  numeroatenciones  codigo_departamento  \\\n",
       "0  2021    CONSULTAS                 1                    5   \n",
       "1  2021    CONSULTAS                 1                    5   \n",
       "2  2021    CONSULTAS                 1                    5   \n",
       "3  2021    CONSULTAS                 1                    5   \n",
       "4  2021    CONSULTAS                 1                    5   \n",
       "\n",
       "  nombre_departamento  codigo_municipio nombre_municipio codigo_diagnostico  \\\n",
       "0           Antioquia              5501            Olaya               E02X   \n",
       "1           Antioquia              5501            Olaya               F069   \n",
       "2           Antioquia              5501            Olaya               F412   \n",
       "3           Antioquia              5501            Olaya               F510   \n",
       "4           Antioquia              5501            Olaya               F529   \n",
       "\n",
       "                                       n_diagnostico  \n",
       "0  HIPOTIROIDISMO SUBCLINICO POR DEFICIENCIA DE YODO  \n",
       "1  TRASTORNO MENTAL NO ESPECIFICADO DEBIDO A LESI...  \n",
       "2            TRASTORNO MIXTO DE ANSIEDAD Y DEPRESION  \n",
       "3                               INSOMNIO NO ORGANICO  \n",
       "4  DISFUNCION SEXUAL, NO OCASIONADA POR TRASTORNO...  "
      ]
     },
     "execution_count": 3,
     "metadata": {},
     "output_type": "execute_result"
    }
   ],
   "source": [
    "# Read Csv\n",
    "df = pd.read_csv(csv_path)\n",
    "df.head()"
   ]
  },
  {
   "cell_type": "code",
   "execution_count": 4,
   "id": "51daa7f7",
   "metadata": {},
   "outputs": [
    {
     "name": "stdout",
     "output_type": "stream",
     "text": [
      "(278274, 9)\n",
      "<class 'pandas.core.frame.DataFrame'>\n",
      "RangeIndex: 278274 entries, 0 to 278273\n",
      "Data columns (total 9 columns):\n",
      " #   Column               Non-Null Count   Dtype \n",
      "---  ------               --------------   ----- \n",
      " 0   a_o                  278274 non-null  int64 \n",
      " 1   tipoatencion         278274 non-null  object\n",
      " 2   numeroatenciones     278274 non-null  int64 \n",
      " 3   codigo_departamento  278274 non-null  int64 \n",
      " 4   nombre_departamento  278274 non-null  object\n",
      " 5   codigo_municipio     278274 non-null  int64 \n",
      " 6   nombre_municipio     278274 non-null  object\n",
      " 7   codigo_diagnostico   278274 non-null  object\n",
      " 8   n_diagnostico        278274 non-null  object\n",
      "dtypes: int64(4), object(5)\n",
      "memory usage: 19.1+ MB\n"
     ]
    }
   ],
   "source": [
    "print(df.shape)\n",
    "df.info()"
   ]
  },
  {
   "cell_type": "code",
   "execution_count": 5,
   "id": "f3851d8e",
   "metadata": {},
   "outputs": [
    {
     "name": "stdout",
     "output_type": "stream",
     "text": [
      "126\n"
     ]
    }
   ],
   "source": [
    "print((df['codigo_municipio'].nunique()))"
   ]
  },
  {
   "cell_type": "code",
   "execution_count": 6,
   "id": "016ab4c1",
   "metadata": {},
   "outputs": [
    {
     "name": "stdout",
     "output_type": "stream",
     "text": [
      "9489\n"
     ]
    }
   ],
   "source": [
    "print((df['codigo_diagnostico'].nunique()))"
   ]
  },
  {
   "cell_type": "markdown",
   "id": "34642a44",
   "metadata": {},
   "source": [
    "## Descriptive statistics\n"
   ]
  },
  {
   "cell_type": "code",
   "execution_count": 7,
   "id": "f115272f",
   "metadata": {},
   "outputs": [
    {
     "name": "stdout",
     "output_type": "stream",
     "text": [
      "       numeroatenciones\n",
      "count      2.782740e+05\n",
      "mean       7.792001e+01\n",
      "std        6.585246e+03\n",
      "min        1.000000e+00\n",
      "25%        1.000000e+00\n",
      "50%        3.000000e+00\n",
      "75%        9.000000e+00\n",
      "max        3.252558e+06\n",
      "   numeroatenciones\n",
      "0                 1\n"
     ]
    }
   ],
   "source": [
    "# Analyzing numeroatenciones\n",
    "\n",
    "print(df[['numeroatenciones']].describe())\n",
    "print(df[['numeroatenciones']].mode())\n"
   ]
  },
  {
   "cell_type": "code",
   "execution_count": 8,
   "id": "c2252dd3",
   "metadata": {},
   "outputs": [
    {
     "data": {
      "image/png": "[encoded data removed]",
      "text/plain": [
       "<Figure size 1000x600 with 1 Axes>"
      ]
     },
     "metadata": {},
     "output_type": "display_data"
    }
   ],
   "source": [
    "# Top 10 numeroatenciones/nombre_municipio \n",
    "municipios = df.groupby('nombre_municipio')['numeroatenciones'].sum().sort_values(ascending=False)\n",
    "top_municipios = municipios.head(10)\n",
    "\n",
    "# Plot\n",
    "plt.figure(figsize=(10, 6))\n",
    "sns.barplot(x=top_municipios.values, y=top_municipios.index, palette='Blues_d')\n",
    "plt.title('Top 10 municipios con más atenciones')\n",
    "plt.xlabel('Número de atenciones')\n",
    "plt.ylabel('Municipio')\n",
    "plt.tight_layout()\n",
    "plt.show()"
   ]
  },
  {
   "cell_type": "code",
   "execution_count": 9,
   "id": "4b2e5f9a",
   "metadata": {},
   "outputs": [
    {
     "data": {
      "image/png": "[encoded data removed]",
      "text/plain": [
       "<Figure size 1200x600 with 2 Axes>"
      ]
     },
     "metadata": {},
     "output_type": "display_data"
    }
   ],
   "source": [
    "# Accumulate percentage\n",
    "pareto = municipios.reset_index()\n",
    "pareto.columns = ['Municipio', 'Atenciones']\n",
    "pareto['% acumulado'] = pareto['Atenciones'].cumsum() / pareto['Atenciones'].sum() * 100\n",
    "\n",
    "# Plot\n",
    "fig, ax1 = plt.subplots(figsize=(12, 6))\n",
    "sns.barplot(x='Municipio', y='Atenciones', data=pareto.head(20), ax=ax1, color='skyblue')\n",
    "ax1.set_ylabel('Atenciones', color='blue')\n",
    "ax1.tick_params(axis='x', rotation=90)\n",
    "\n",
    "# Accumulate line\n",
    "ax2 = ax1.twinx()\n",
    "ax2.plot(pareto['Municipio'].head(20), pareto['% acumulado'].head(20), color='red', marker='o')\n",
    "ax2.set_ylabel('% acumulado', color='red')\n",
    "ax2.axhline(80, color='gray', linestyle='--')\n",
    "\n",
    "plt.title('Gráfico de Pareto - Atenciones por Municipio')\n",
    "plt.tight_layout()\n",
    "plt.show()\n"
   ]
  },
  {
   "cell_type": "code",
   "execution_count": 10,
   "id": "46b8a59d",
   "metadata": {},
   "outputs": [
    {
     "data": {
      "text/plain": [
       "9.523809523809524"
      ]
     },
     "execution_count": 10,
     "metadata": {},
     "output_type": "execute_result"
    }
   ],
   "source": [
    "\n",
    "12*100/126"
   ]
  },
  {
   "cell_type": "code",
   "execution_count": 11,
   "id": "dda8b0d9",
   "metadata": {},
   "outputs": [
    {
     "data": {
      "image/png": "[encoded data removed]",
      "text/plain": [
       "<Figure size 1000x600 with 1 Axes>"
      ]
     },
     "metadata": {},
     "output_type": "display_data"
    }
   ],
   "source": [
    "# Top 10 numeroatenciones/nombre_municipio \n",
    "diagnosticos = df.groupby('codigo_diagnostico')['numeroatenciones'].sum().sort_values(ascending=False)\n",
    "top_diagnosticos = diagnosticos.head(10)\n",
    "\n",
    "# Plot\n",
    "plt.figure(figsize=(10, 6))\n",
    "sns.barplot(x=top_diagnosticos.values, y=top_diagnosticos.index, palette='Blues_d')\n",
    "plt.title('Top 10 diagnosticos con más atenciones')\n",
    "plt.xlabel('Número de atenciones')\n",
    "plt.ylabel('Codigo')\n",
    "plt.tight_layout()\n",
    "plt.show()"
   ]
  },
  {
   "cell_type": "code",
   "execution_count": 12,
   "id": "622aab2b",
   "metadata": {},
   "outputs": [
    {
     "data": {
      "text/html": [
       "<div>\n",
       "<style scoped>\n",
       "    .dataframe tbody tr th:only-of-type {\n",
       "        vertical-align: middle;\n",
       "    }\n",
       "\n",
       "    .dataframe tbody tr th {\n",
       "        vertical-align: top;\n",
       "    }\n",
       "\n",
       "    .dataframe thead th {\n",
       "        text-align: right;\n",
       "    }\n",
       "</style>\n",
       "<table border=\"1\" class=\"dataframe\">\n",
       "  <thead>\n",
       "    <tr style=\"text-align: right;\">\n",
       "      <th></th>\n",
       "      <th>a_o</th>\n",
       "      <th>tipoatencion</th>\n",
       "      <th>numeroatenciones</th>\n",
       "      <th>codigo_departamento</th>\n",
       "      <th>nombre_departamento</th>\n",
       "      <th>codigo_municipio</th>\n",
       "      <th>nombre_municipio</th>\n",
       "      <th>codigo_diagnostico</th>\n",
       "      <th>n_diagnostico</th>\n",
       "    </tr>\n",
       "  </thead>\n",
       "  <tbody>\n",
       "    <tr>\n",
       "      <th>5068</th>\n",
       "      <td>2021</td>\n",
       "      <td>PROCEDIMIENTOS DE SALUD</td>\n",
       "      <td>2226</td>\n",
       "      <td>5</td>\n",
       "      <td>Antioquia</td>\n",
       "      <td>5321</td>\n",
       "      <td>Guatape</td>\n",
       "      <td>1</td>\n",
       "      <td>NO DEFINIDO</td>\n",
       "    </tr>\n",
       "    <tr>\n",
       "      <th>5839</th>\n",
       "      <td>2021</td>\n",
       "      <td>PROCEDIMIENTOS DE SALUD</td>\n",
       "      <td>22112</td>\n",
       "      <td>5</td>\n",
       "      <td>Antioquia</td>\n",
       "      <td>5129</td>\n",
       "      <td>Caldas</td>\n",
       "      <td>1</td>\n",
       "      <td>NO DEFINIDO</td>\n",
       "    </tr>\n",
       "    <tr>\n",
       "      <th>10282</th>\n",
       "      <td>2021</td>\n",
       "      <td>PROCEDIMIENTOS DE SALUD</td>\n",
       "      <td>1329</td>\n",
       "      <td>5</td>\n",
       "      <td>Antioquia</td>\n",
       "      <td>5093</td>\n",
       "      <td>Betulia</td>\n",
       "      <td>1</td>\n",
       "      <td>NO DEFINIDO</td>\n",
       "    </tr>\n",
       "    <tr>\n",
       "      <th>12908</th>\n",
       "      <td>2021</td>\n",
       "      <td>PROCEDIMIENTOS DE SALUD</td>\n",
       "      <td>27592</td>\n",
       "      <td>5</td>\n",
       "      <td>Antioquia</td>\n",
       "      <td>5376</td>\n",
       "      <td>La Ceja</td>\n",
       "      <td>1</td>\n",
       "      <td>NO DEFINIDO</td>\n",
       "    </tr>\n",
       "    <tr>\n",
       "      <th>22635</th>\n",
       "      <td>2021</td>\n",
       "      <td>PROCEDIMIENTOS DE SALUD</td>\n",
       "      <td>3363</td>\n",
       "      <td>5</td>\n",
       "      <td>Antioquia</td>\n",
       "      <td>5674</td>\n",
       "      <td>San Vicente</td>\n",
       "      <td>1</td>\n",
       "      <td>NO DEFINIDO</td>\n",
       "    </tr>\n",
       "    <tr>\n",
       "      <th>...</th>\n",
       "      <td>...</td>\n",
       "      <td>...</td>\n",
       "      <td>...</td>\n",
       "      <td>...</td>\n",
       "      <td>...</td>\n",
       "      <td>...</td>\n",
       "      <td>...</td>\n",
       "      <td>...</td>\n",
       "      <td>...</td>\n",
       "    </tr>\n",
       "    <tr>\n",
       "      <th>269272</th>\n",
       "      <td>2021</td>\n",
       "      <td>PROCEDIMIENTOS DE SALUD</td>\n",
       "      <td>3671</td>\n",
       "      <td>5</td>\n",
       "      <td>Antioquia</td>\n",
       "      <td>5051</td>\n",
       "      <td>Arboletes</td>\n",
       "      <td>1</td>\n",
       "      <td>NO DEFINIDO</td>\n",
       "    </tr>\n",
       "    <tr>\n",
       "      <th>274865</th>\n",
       "      <td>2021</td>\n",
       "      <td>PROCEDIMIENTOS DE SALUD</td>\n",
       "      <td>349</td>\n",
       "      <td>5</td>\n",
       "      <td>Antioquia</td>\n",
       "      <td>5004</td>\n",
       "      <td>Abriaqui</td>\n",
       "      <td>1</td>\n",
       "      <td>NO DEFINIDO</td>\n",
       "    </tr>\n",
       "    <tr>\n",
       "      <th>275017</th>\n",
       "      <td>2021</td>\n",
       "      <td>PROCEDIMIENTOS DE SALUD</td>\n",
       "      <td>3571</td>\n",
       "      <td>5</td>\n",
       "      <td>Antioquia</td>\n",
       "      <td>5002</td>\n",
       "      <td>Abejorral</td>\n",
       "      <td>1</td>\n",
       "      <td>NO DEFINIDO</td>\n",
       "    </tr>\n",
       "    <tr>\n",
       "      <th>275319</th>\n",
       "      <td>2021</td>\n",
       "      <td>PROCEDIMIENTOS DE SALUD</td>\n",
       "      <td>2394</td>\n",
       "      <td>5</td>\n",
       "      <td>Antioquia</td>\n",
       "      <td>5059</td>\n",
       "      <td>Armenia</td>\n",
       "      <td>1</td>\n",
       "      <td>NO DEFINIDO</td>\n",
       "    </tr>\n",
       "    <tr>\n",
       "      <th>277026</th>\n",
       "      <td>2021</td>\n",
       "      <td>PROCEDIMIENTOS DE SALUD</td>\n",
       "      <td>1396</td>\n",
       "      <td>5</td>\n",
       "      <td>Antioquia</td>\n",
       "      <td>5036</td>\n",
       "      <td>Angelopolis</td>\n",
       "      <td>1</td>\n",
       "      <td>NO DEFINIDO</td>\n",
       "    </tr>\n",
       "  </tbody>\n",
       "</table>\n",
       "<p>75 rows × 9 columns</p>\n",
       "</div>"
      ],
      "text/plain": [
       "         a_o             tipoatencion  numeroatenciones  codigo_departamento  \\\n",
       "5068    2021  PROCEDIMIENTOS DE SALUD              2226                    5   \n",
       "5839    2021  PROCEDIMIENTOS DE SALUD             22112                    5   \n",
       "10282   2021  PROCEDIMIENTOS DE SALUD              1329                    5   \n",
       "12908   2021  PROCEDIMIENTOS DE SALUD             27592                    5   \n",
       "22635   2021  PROCEDIMIENTOS DE SALUD              3363                    5   \n",
       "...      ...                      ...               ...                  ...   \n",
       "269272  2021  PROCEDIMIENTOS DE SALUD              3671                    5   \n",
       "274865  2021  PROCEDIMIENTOS DE SALUD               349                    5   \n",
       "275017  2021  PROCEDIMIENTOS DE SALUD              3571                    5   \n",
       "275319  2021  PROCEDIMIENTOS DE SALUD              2394                    5   \n",
       "277026  2021  PROCEDIMIENTOS DE SALUD              1396                    5   \n",
       "\n",
       "       nombre_departamento  codigo_municipio nombre_municipio  \\\n",
       "5068             Antioquia              5321          Guatape   \n",
       "5839             Antioquia              5129           Caldas   \n",
       "10282            Antioquia              5093          Betulia   \n",
       "12908            Antioquia              5376          La Ceja   \n",
       "22635            Antioquia              5674      San Vicente   \n",
       "...                    ...               ...              ...   \n",
       "269272           Antioquia              5051        Arboletes   \n",
       "274865           Antioquia              5004         Abriaqui   \n",
       "275017           Antioquia              5002        Abejorral   \n",
       "275319           Antioquia              5059          Armenia   \n",
       "277026           Antioquia              5036      Angelopolis   \n",
       "\n",
       "       codigo_diagnostico n_diagnostico  \n",
       "5068                    1   NO DEFINIDO  \n",
       "5839                    1   NO DEFINIDO  \n",
       "10282                   1   NO DEFINIDO  \n",
       "12908                   1   NO DEFINIDO  \n",
       "22635                   1   NO DEFINIDO  \n",
       "...                   ...           ...  \n",
       "269272                  1   NO DEFINIDO  \n",
       "274865                  1   NO DEFINIDO  \n",
       "275017                  1   NO DEFINIDO  \n",
       "275319                  1   NO DEFINIDO  \n",
       "277026                  1   NO DEFINIDO  \n",
       "\n",
       "[75 rows x 9 columns]"
      ]
     },
     "execution_count": 12,
     "metadata": {},
     "output_type": "execute_result"
    }
   ],
   "source": [
    "df.loc[df['codigo_diagnostico'] == '1']"
   ]
  },
  {
   "cell_type": "code",
   "execution_count": 13,
   "id": "24d3c630",
   "metadata": {},
   "outputs": [
    {
     "name": "stdout",
     "output_type": "stream",
     "text": [
      "codigo_municipio\n",
      "5001    1\n",
      "5002    1\n",
      "5004    1\n",
      "5034    1\n",
      "5036    1\n",
      "       ..\n",
      "5858    1\n",
      "5861    1\n",
      "5873    1\n",
      "5885    1\n",
      "5895    1\n",
      "Length: 75, dtype: int64\n"
     ]
    }
   ],
   "source": [
    "no_define = df.loc[df['codigo_diagnostico'] == '1'].groupby('codigo_municipio').size()\n",
    "print(no_define)"
   ]
  },
  {
   "cell_type": "code",
   "execution_count": 14,
   "id": "0f2c1aa5",
   "metadata": {},
   "outputs": [
    {
     "data": {
      "image/png": "[encoded data removed]",
      "text/plain": [
       "<Figure size 1000x600 with 1 Axes>"
      ]
     },
     "metadata": {},
     "output_type": "display_data"
    }
   ],
   "source": [
    "tipoatencion = df.groupby('tipoatencion')['numeroatenciones'].sum().sort_values(ascending=False)\n",
    "\n",
    "# Plot\n",
    "plt.figure(figsize=(10, 6))\n",
    "sns.barplot(x=tipoatencion.values, y=tipoatencion.index, palette='Blues_d')\n",
    "plt.title('Tipo de atencion')\n",
    "plt.xlabel('Número de atenciones')\n",
    "plt.ylabel('Tipo')\n",
    "plt.tight_layout()\n",
    "plt.show()"
   ]
  },
  {
   "cell_type": "code",
   "execution_count": 15,
   "id": "dda6a0f9",
   "metadata": {},
   "outputs": [
    {
     "data": {
      "text/plain": [
       "CONSULTAS                  0.498861\n",
       "PROCEDIMIENTOS DE SALUD    0.304470\n",
       "URGENCIAS                  0.105457\n",
       "HOSPITALIZACIONES          0.091212\n",
       "Name: tipoatencion, dtype: float64"
      ]
     },
     "execution_count": 15,
     "metadata": {},
     "output_type": "execute_result"
    }
   ],
   "source": [
    "df['tipoatencion'].value_counts(normalize=True)\n"
   ]
  },
  {
   "cell_type": "code",
   "execution_count": 16,
   "id": "0146d07a",
   "metadata": {},
   "outputs": [],
   "source": [
    "cie10_table = {\n",
    "    'A': 'I - Enfermedades infecciosas y parasitarias',\n",
    "    'B': 'I - Enfermedades infecciosas y parasitarias',\n",
    "    'C': 'II - Neoplasias',\n",
    "    'D': 'III - Enfermedades sangre / inmunidad',  \n",
    "    'E': 'IV - Endocrinas, nutricionales y metabólicas',\n",
    "    'F': 'V - Mentales y de comportamiento',\n",
    "    'G': 'VI - Sistema nervioso',\n",
    "    'H': 'VII-VIII - Ojo / Oreja',\n",
    "    'I': 'IX - Sistema circulatorio',\n",
    "    'J': 'X - Sistema respiratorio',\n",
    "    'K': 'XI - Sistema digestivo',\n",
    "    'L': 'XII - Piel y tejido subcutáneo',\n",
    "    'M': 'XIII - Sistema musculoesquelético',\n",
    "    'N': 'XIV - Aparato genitourinario',\n",
    "    'O': 'XV - Embarazo y puerperio',\n",
    "    'P': 'XVI - Perinatal',\n",
    "    'Q': 'XVII - Malformaciones congénitas',\n",
    "    'R': 'XVIII - Signos y síntomas',\n",
    "    'S': 'XIX - Lesiones y otras causas externas',\n",
    "    'T': 'XIX - Lesiones y otras causas externas',\n",
    "    'V': 'XX - Causas externas de morbilidad y mortalidad',\n",
    "    'W': 'XX - Causas externas de morbilidad y mortalidad',\n",
    "    'X': 'XX - Causas externas de morbilidad y mortalidad',\n",
    "    'Y': 'XXI - Causas externas de morbilidad y mortalidad',\n",
    "    'Z': 'XXII - Factores sociales y contacto con salud',\n",
    "}\n"
   ]
  },
  {
   "cell_type": "code",
   "execution_count": 17,
   "id": "5e74d930",
   "metadata": {},
   "outputs": [
    {
     "name": "stdout",
     "output_type": "stream",
     "text": [
      "XXI - Causas externas de morbilidad y mortalidad     2141\n",
      "XVI - Perinatal                                      3337\n",
      "XX - Causas externas de morbilidad y mortalidad      4434\n",
      "XVII - Malformaciones congénitas                     7050\n",
      "VI - Sistema nervioso                                8972\n",
      "X - Sistema respiratorio                            10003\n",
      "I - Enfermedades infecciosas y parasitarias         10354\n",
      "II - Neoplasias                                     10789\n",
      "IV - Endocrinas, nutricionales y metabólicas        11274\n",
      "III - Enfermedades sangre / inmunidad               11450\n",
      "XII - Piel y tejido subcutáneo                      11756\n",
      "V - Mentales y de comportamiento                    12979\n",
      "XV - Embarazo y puerperio                           13002\n",
      "IX - Sistema circulatorio                           14540\n",
      "VII-VIII - Ojo / Oreja                              14777\n",
      "XXII - Factores sociales y contacto con salud       16749\n",
      "XVIII - Signos y síntomas                           16799\n",
      "XIV - Aparato genitourinario                        18215\n",
      "XI - Sistema digestivo                              19354\n",
      "XIII - Sistema musculoesquelético                   20402\n",
      "XIX - Lesiones y otras causas externas              39016\n",
      "Name: capitulo, dtype: int64\n"
     ]
    }
   ],
   "source": [
    "df['capitulo'] = df['codigo_diagnostico'].str[0].map(cie10_table)\n",
    "count_cie = df['capitulo'].value_counts().sort_values(ascending=True)\n",
    "print(count_cie)\n"
   ]
  },
  {
   "cell_type": "code",
   "execution_count": 18,
   "id": "dc66757b",
   "metadata": {},
   "outputs": [
    {
     "data": {
      "image/png": "[encoded data removed]",
      "text/plain": [
       "<Figure size 1000x800 with 1 Axes>"
      ]
     },
     "metadata": {},
     "output_type": "display_data"
    }
   ],
   "source": [
    "plt.figure(figsize=(10, 8))\n",
    "count_cie.plot(kind='barh', color='skyblue')\n",
    "plt.title('Número de atenciones por grupo CIE-10')\n",
    "plt.xlabel('Número de atenciones')\n",
    "plt.ylabel('Capítulo CIE-10')\n",
    "plt.tight_layout()\n",
    "plt.grid(axis='x', linestyle='--', alpha=0.7)\n",
    "plt.show()\n"
   ]
  },
  {
   "cell_type": "code",
   "execution_count": 19,
   "id": "39f28dd8",
   "metadata": {},
   "outputs": [
    {
     "data": {
      "text/html": [
       "<div>\n",
       "<style scoped>\n",
       "    .dataframe tbody tr th:only-of-type {\n",
       "        vertical-align: middle;\n",
       "    }\n",
       "\n",
       "    .dataframe tbody tr th {\n",
       "        vertical-align: top;\n",
       "    }\n",
       "\n",
       "    .dataframe thead th {\n",
       "        text-align: right;\n",
       "    }\n",
       "</style>\n",
       "<table border=\"1\" class=\"dataframe\">\n",
       "  <thead>\n",
       "    <tr style=\"text-align: right;\">\n",
       "      <th></th>\n",
       "      <th>cod_dpto</th>\n",
       "      <th>nom_dpto</th>\n",
       "      <th>cod_mpio</th>\n",
       "      <th>nom_mpio</th>\n",
       "      <th>tipo</th>\n",
       "      <th>latitud</th>\n",
       "      <th>longitud</th>\n",
       "      <th>geo_municipio</th>\n",
       "    </tr>\n",
       "  </thead>\n",
       "  <tbody>\n",
       "    <tr>\n",
       "      <th>0</th>\n",
       "      <td>5</td>\n",
       "      <td>ANTIOQUIA</td>\n",
       "      <td>5001</td>\n",
       "      <td>MEDELLÍN</td>\n",
       "      <td>Municipio</td>\n",
       "      <td>6.257590</td>\n",
       "      <td>-75.611031</td>\n",
       "      <td>{'type': 'Point', 'coordinates': [-75.61103107...</td>\n",
       "    </tr>\n",
       "    <tr>\n",
       "      <th>1</th>\n",
       "      <td>5</td>\n",
       "      <td>ANTIOQUIA</td>\n",
       "      <td>5002</td>\n",
       "      <td>ABEJORRAL</td>\n",
       "      <td>Municipio</td>\n",
       "      <td>5.803728</td>\n",
       "      <td>-75.438474</td>\n",
       "      <td>{'type': 'Point', 'coordinates': [-75.43847353...</td>\n",
       "    </tr>\n",
       "    <tr>\n",
       "      <th>2</th>\n",
       "      <td>5</td>\n",
       "      <td>ANTIOQUIA</td>\n",
       "      <td>5004</td>\n",
       "      <td>ABRIAQUÍ</td>\n",
       "      <td>Municipio</td>\n",
       "      <td>6.627569</td>\n",
       "      <td>-76.085978</td>\n",
       "      <td>{'type': 'Point', 'coordinates': [-76.08597756...</td>\n",
       "    </tr>\n",
       "    <tr>\n",
       "      <th>3</th>\n",
       "      <td>5</td>\n",
       "      <td>ANTIOQUIA</td>\n",
       "      <td>5021</td>\n",
       "      <td>ALEJANDRÍA</td>\n",
       "      <td>Municipio</td>\n",
       "      <td>6.365534</td>\n",
       "      <td>-75.090597</td>\n",
       "      <td>{'type': 'Point', 'coordinates': [-75.09059702...</td>\n",
       "    </tr>\n",
       "    <tr>\n",
       "      <th>4</th>\n",
       "      <td>5</td>\n",
       "      <td>ANTIOQUIA</td>\n",
       "      <td>5030</td>\n",
       "      <td>AMAGÁ</td>\n",
       "      <td>Municipio</td>\n",
       "      <td>6.032922</td>\n",
       "      <td>-75.708003</td>\n",
       "      <td>{'type': 'Point', 'coordinates': [-75.7080031,...</td>\n",
       "    </tr>\n",
       "  </tbody>\n",
       "</table>\n",
       "</div>"
      ],
      "text/plain": [
       "   cod_dpto   nom_dpto  cod_mpio    nom_mpio       tipo   latitud   longitud  \\\n",
       "0         5  ANTIOQUIA      5001    MEDELLÍN  Municipio  6.257590 -75.611031   \n",
       "1         5  ANTIOQUIA      5002   ABEJORRAL  Municipio  5.803728 -75.438474   \n",
       "2         5  ANTIOQUIA      5004    ABRIAQUÍ  Municipio  6.627569 -76.085978   \n",
       "3         5  ANTIOQUIA      5021  ALEJANDRÍA  Municipio  6.365534 -75.090597   \n",
       "4         5  ANTIOQUIA      5030       AMAGÁ  Municipio  6.032922 -75.708003   \n",
       "\n",
       "                                       geo_municipio  \n",
       "0  {'type': 'Point', 'coordinates': [-75.61103107...  \n",
       "1  {'type': 'Point', 'coordinates': [-75.43847353...  \n",
       "2  {'type': 'Point', 'coordinates': [-76.08597756...  \n",
       "3  {'type': 'Point', 'coordinates': [-75.09059702...  \n",
       "4  {'type': 'Point', 'coordinates': [-75.7080031,...  "
      ]
     },
     "execution_count": 19,
     "metadata": {},
     "output_type": "execute_result"
    }
   ],
   "source": [
    "# Read Csv\n",
    "df_geo = pd.read_csv(geo_csv_path)\n",
    "df_geo.head()"
   ]
  },
  {
   "cell_type": "code",
   "execution_count": 20,
   "id": "df0c770e",
   "metadata": {},
   "outputs": [],
   "source": [
    "df_geo['cod_mpio'] = df_geo['cod_mpio'].astype(str).str.zfill(5)\n",
    "df_geo.rename(columns={'cod_mpio': 'codigo_municipio'}, inplace=True)\n",
    "\n",
    "df['codigo_municipio'] = df['codigo_municipio'].astype(str).str.zfill(5)"
   ]
  },
  {
   "cell_type": "code",
   "execution_count": 21,
   "id": "57c75a4f",
   "metadata": {},
   "outputs": [
    {
     "data": {
      "text/html": [
       "<div>\n",
       "<style scoped>\n",
       "    .dataframe tbody tr th:only-of-type {\n",
       "        vertical-align: middle;\n",
       "    }\n",
       "\n",
       "    .dataframe tbody tr th {\n",
       "        vertical-align: top;\n",
       "    }\n",
       "\n",
       "    .dataframe thead th {\n",
       "        text-align: right;\n",
       "    }\n",
       "</style>\n",
       "<table border=\"1\" class=\"dataframe\">\n",
       "  <thead>\n",
       "    <tr style=\"text-align: right;\">\n",
       "      <th></th>\n",
       "      <th>codigo_municipio</th>\n",
       "      <th>numeroatenciones</th>\n",
       "      <th>cod_dpto</th>\n",
       "      <th>nom_dpto</th>\n",
       "      <th>nom_mpio</th>\n",
       "      <th>tipo</th>\n",
       "      <th>latitud</th>\n",
       "      <th>longitud</th>\n",
       "      <th>geo_municipio</th>\n",
       "    </tr>\n",
       "  </thead>\n",
       "  <tbody>\n",
       "    <tr>\n",
       "      <th>0</th>\n",
       "      <td>05001</td>\n",
       "      <td>10726430</td>\n",
       "      <td>5</td>\n",
       "      <td>ANTIOQUIA</td>\n",
       "      <td>MEDELLÍN</td>\n",
       "      <td>Municipio</td>\n",
       "      <td>6.257590</td>\n",
       "      <td>-75.611031</td>\n",
       "      <td>{'type': 'Point', 'coordinates': [-75.61103107...</td>\n",
       "    </tr>\n",
       "    <tr>\n",
       "      <th>1</th>\n",
       "      <td>05002</td>\n",
       "      <td>30516</td>\n",
       "      <td>5</td>\n",
       "      <td>ANTIOQUIA</td>\n",
       "      <td>ABEJORRAL</td>\n",
       "      <td>Municipio</td>\n",
       "      <td>5.803728</td>\n",
       "      <td>-75.438474</td>\n",
       "      <td>{'type': 'Point', 'coordinates': [-75.43847353...</td>\n",
       "    </tr>\n",
       "    <tr>\n",
       "      <th>2</th>\n",
       "      <td>05004</td>\n",
       "      <td>1447</td>\n",
       "      <td>5</td>\n",
       "      <td>ANTIOQUIA</td>\n",
       "      <td>ABRIAQUÍ</td>\n",
       "      <td>Municipio</td>\n",
       "      <td>6.627569</td>\n",
       "      <td>-76.085978</td>\n",
       "      <td>{'type': 'Point', 'coordinates': [-76.08597756...</td>\n",
       "    </tr>\n",
       "    <tr>\n",
       "      <th>3</th>\n",
       "      <td>05021</td>\n",
       "      <td>3273</td>\n",
       "      <td>5</td>\n",
       "      <td>ANTIOQUIA</td>\n",
       "      <td>ALEJANDRÍA</td>\n",
       "      <td>Municipio</td>\n",
       "      <td>6.365534</td>\n",
       "      <td>-75.090597</td>\n",
       "      <td>{'type': 'Point', 'coordinates': [-75.09059702...</td>\n",
       "    </tr>\n",
       "    <tr>\n",
       "      <th>4</th>\n",
       "      <td>05030</td>\n",
       "      <td>63585</td>\n",
       "      <td>5</td>\n",
       "      <td>ANTIOQUIA</td>\n",
       "      <td>AMAGÁ</td>\n",
       "      <td>Municipio</td>\n",
       "      <td>6.032922</td>\n",
       "      <td>-75.708003</td>\n",
       "      <td>{'type': 'Point', 'coordinates': [-75.7080031,...</td>\n",
       "    </tr>\n",
       "  </tbody>\n",
       "</table>\n",
       "</div>"
      ],
      "text/plain": [
       "  codigo_municipio  numeroatenciones  cod_dpto   nom_dpto    nom_mpio  \\\n",
       "0            05001          10726430         5  ANTIOQUIA    MEDELLÍN   \n",
       "1            05002             30516         5  ANTIOQUIA   ABEJORRAL   \n",
       "2            05004              1447         5  ANTIOQUIA    ABRIAQUÍ   \n",
       "3            05021              3273         5  ANTIOQUIA  ALEJANDRÍA   \n",
       "4            05030             63585         5  ANTIOQUIA       AMAGÁ   \n",
       "\n",
       "        tipo   latitud   longitud  \\\n",
       "0  Municipio  6.257590 -75.611031   \n",
       "1  Municipio  5.803728 -75.438474   \n",
       "2  Municipio  6.627569 -76.085978   \n",
       "3  Municipio  6.365534 -75.090597   \n",
       "4  Municipio  6.032922 -75.708003   \n",
       "\n",
       "                                       geo_municipio  \n",
       "0  {'type': 'Point', 'coordinates': [-75.61103107...  \n",
       "1  {'type': 'Point', 'coordinates': [-75.43847353...  \n",
       "2  {'type': 'Point', 'coordinates': [-76.08597756...  \n",
       "3  {'type': 'Point', 'coordinates': [-75.09059702...  \n",
       "4  {'type': 'Point', 'coordinates': [-75.7080031,...  "
      ]
     },
     "execution_count": 21,
     "metadata": {},
     "output_type": "execute_result"
    }
   ],
   "source": [
    "df_agg = df.groupby('codigo_municipio', as_index=False).agg({\n",
    "    'numeroatenciones': 'sum'  # O el nombre que tenga tu columna de conteo\n",
    "})\n",
    "df_map = pd.merge(df_agg, df_geo, on='codigo_municipio', how='inner')\n",
    "df_map.head()"
   ]
  },
  {
   "cell_type": "code",
   "execution_count": 61,
   "id": "669841f7",
   "metadata": {},
   "outputs": [
    {
     "data": {
      "application/vnd.plotly.v1+json": {
       "config": {
        "plotlyServerURL": "https://plot.ly"
       },
       "data": [
        {
         "customdata": [
          [
           10726430
          ],
          [
           30516
          ],
          [
           1447
          ],
          [
           3273
          ],
          [
           63585
          ],
          [
           60040
          ],
          [
           28997
          ],
          [
           5475
          ],
          [
           48475
          ],
          [
           113484
          ],
          [
           92008
          ],
          [
           1986
          ],
          [
           515435
          ],
          [
           25565
          ],
          [
           2909
          ],
          [
           24335
          ],
          [
           127544
          ],
          [
           9113
          ],
          [
           1416674
          ],
          [
           7505
          ],
          [
           6699
          ],
          [
           119606
          ],
          [
           25927
          ],
          [
           10988
          ],
          [
           166517
          ],
          [
           9083
          ],
          [
           448615
          ],
          [
           7407
          ],
          [
           19780
          ],
          [
           6493
          ],
          [
           5395
          ],
          [
           185600
          ],
          [
           133287
          ],
          [
           11331
          ],
          [
           558324
          ],
          [
           179176
          ],
          [
           4203
          ],
          [
           9095
          ],
          [
           3089
          ],
          [
           15564
          ],
          [
           372141
          ],
          [
           145890
          ],
          [
           24293
          ],
          [
           8858
          ],
          [
           334393
          ],
          [
           19625
          ],
          [
           727752
          ],
          [
           30289
          ],
          [
           115960
          ],
          [
           5714
          ],
          [
           126812
          ],
          [
           7541
          ],
          [
           8845
          ],
          [
           3084
          ],
          [
           126998
          ],
          [
           12891
          ],
          [
           4443
          ],
          [
           18928
          ],
          [
           1272702
          ],
          [
           20840
          ],
          [
           20995
          ],
          [
           45711
          ],
          [
           299168
          ],
          [
           169941
          ],
          [
           5409
          ],
          [
           37430
          ],
          [
           3580
          ],
          [
           9153
          ],
          [
           70718
          ],
          [
           5663
          ],
          [
           834
          ],
          [
           21083
          ],
          [
           6389
          ],
          [
           87282
          ],
          [
           203365
          ],
          [
           3930
          ],
          [
           26766
          ],
          [
           34914
          ],
          [
           57278
          ],
          [
           103888
          ],
          [
           9325
          ],
          [
           12609
          ],
          [
           72879
          ],
          [
           65646
          ],
          [
           180944
          ],
          [
           1420
          ],
          [
           53640
          ],
          [
           4506
          ],
          [
           259
          ],
          [
           3842
          ],
          [
           1896
          ],
          [
           6596
          ],
          [
           2333
          ],
          [
           7194
          ],
          [
           5583
          ],
          [
           43438
          ],
          [
           28109
          ],
          [
           10017
          ],
          [
           16144
          ],
          [
           11831
          ],
          [
           11464
          ],
          [
           73780
          ],
          [
           11956
          ],
          [
           48852
          ],
          [
           49993
          ],
          [
           25553
          ],
          [
           20375
          ],
          [
           72280
          ],
          [
           173247
          ],
          [
           10854
          ],
          [
           11298
          ],
          [
           2382
          ],
          [
           433250
          ],
          [
           37720
          ],
          [
           9160
          ],
          [
           76688
          ],
          [
           4882
          ],
          [
           14511
          ],
          [
           11949
          ],
          [
           2577
          ],
          [
           28376
          ],
          [
           7390
          ],
          [
           37253
          ],
          [
           7278
          ],
          [
           129361
          ]
         ],
         "hovertemplate": "<b>%{hovertext}</b><br><br>size_normalized=%{marker.size}<br>latitud=%{lat}<br>longitud=%{lon}<br>numeroatenciones=%{marker.color}<extra></extra>",
         "hovertext": [
          "MEDELLÍN",
          "ABEJORRAL",
          "ABRIAQUÍ",
          "ALEJANDRÍA",
          "AMAGÁ",
          "AMALFI",
          "ANDES",
          "ANGELÓPOLIS",
          "ANGOSTURA",
          "ANORÍ",
          "SANTA FÉ DE ANTIOQUIA",
          "ANZÁ",
          "APARTADÓ",
          "ARBOLETES",
          "ARGELIA",
          "ARMENIA",
          "BARBOSA",
          "BELMIRA",
          "BELLO",
          "BETANIA",
          "BETULIA",
          "CIUDAD BOLÍVAR",
          "BRICEÑO",
          "BURITICÁ",
          "CÁCERES",
          "CAICEDO",
          "CALDAS",
          "CAMPAMENTO",
          "CAÑASGORDAS",
          "CARACOLÍ",
          "CARAMANTA",
          "CAREPA",
          "EL CARMEN DE VIBORAL",
          "CAROLINA",
          "CAUCASIA",
          "CHIGORODÓ",
          "CISNEROS",
          "COCORNÁ",
          "CONCEPCIÓN",
          "CONCORDIA",
          "COPACABANA",
          "DABEIBA",
          "DONMATÍAS",
          "EBÉJICO",
          "EL BAGRE",
          "ENTRERRÍOS",
          "ENVIGADO",
          "FREDONIA",
          "FRONTINO",
          "GIRALDO",
          "GIRARDOTA",
          "GÓMEZ PLATA",
          "GRANADA",
          "GUADALUPE",
          "GUARNE",
          "GUATAPÉ",
          "HELICONIA",
          "HISPANIA",
          "ITAGÜÍ",
          "ITUANGO",
          "JARDÍN",
          "JERICÓ",
          "LA CEJA",
          "LA ESTRELLA",
          "LA PINTADA",
          "LA UNIÓN",
          "LIBORINA",
          "MACEO",
          "MARINILLA",
          "MONTEBELLO",
          "MURINDÓ",
          "MUTATÁ",
          "NARIÑO",
          "NECOCLÍ",
          "NECHÍ",
          "OLAYA",
          "PEÑOL",
          "PEQUE",
          "PUEBLORRICO",
          "PUERTO BERRÍO",
          "PUERTO NARE",
          "PUERTO TRIUNFO",
          "REMEDIOS",
          "RETIRO",
          "RIONEGRO",
          "SABANALARGA",
          "SABANETA",
          "SALGAR",
          "SAN ANDRÉS DE CUERQUÍA",
          "SAN CARLOS",
          "SAN FRANCISCO",
          "SAN JERÓNIMO",
          "SAN JOSÉ DE LA MONTAÑA",
          "SAN JUAN DE URABÁ",
          "SAN LUIS",
          "SAN PEDRO DE LOS MILAGROS",
          "SAN PEDRO DE URABÁ",
          "SAN RAFAEL",
          "SAN ROQUE",
          "SAN VICENTE FERRER",
          "SANTA BÁRBARA",
          "SANTA ROSA DE OSOS",
          "SANTO DOMINGO",
          "EL SANTUARIO",
          "SEGOVIA",
          "SONSÓN",
          "SOPETRÁN",
          "TÁMESIS",
          "TARAZÁ",
          "TARSO",
          "TITIRIBÍ",
          "TOLEDO",
          "TURBO",
          "URAMITA",
          "URRAO",
          "VALDIVIA",
          "VALPARAÍSO",
          "VEGACHÍ",
          "VENECIA",
          "VIGÍA DEL FUERTE",
          "YALÍ",
          "YARUMAL",
          "YOLOMBÓ",
          "YONDÓ",
          "ZARAGOZA"
         ],
         "lat": [
          6.257590259,
          5.803728154,
          6.627569378,
          6.365534125,
          6.032921994,
          6.977788843,
          5.604993248,
          6.121430303,
          6.861498764,
          7.193110778,
          6.535711576,
          6.293546613,
          7.86047815,
          8.611395262,
          5.708114524,
          6.163683758,
          6.443417935,
          6.665853953,
          6.358841086,
          5.727081285,
          6.185783612,
          5.840995666,
          7.111788462,
          6.80906489,
          7.665155105,
          6.423463639,
          6.054446841,
          7.036017478,
          6.814950023,
          6.33797388,
          5.555275296,
          7.757967437,
          5.978078841,
          6.754821442,
          7.867941792,
          7.631665644,
          6.550065431,
          6.005593074,
          6.376106187,
          6.057468678,
          6.351882893,
          6.992243782,
          6.492403905,
          6.326444922,
          7.704633351,
          6.594656004,
          6.154394922,
          5.887702934,
          6.691364773,
          6.663095863,
          6.379745895,
          6.709562839,
          6.123380721,
          6.861576325,
          6.266625703,
          6.236329826,
          6.214511788,
          5.797039002,
          6.179279438,
          7.341549718,
          5.574444339,
          5.769820536,
          5.992524843,
          6.137595883,
          5.746583958,
          5.940434685,
          6.723990935,
          6.534573585,
          6.18520515,
          5.916853903,
          6.828773855,
          7.329557848,
          5.581275312,
          8.493728551,
          7.983477394,
          6.611418083,
          6.232396368,
          7.044180058,
          5.80970186,
          6.481922267,
          6.126539139,
          5.954830151,
          6.997267375,
          6.053444254,
          6.150785807,
          6.901000506,
          6.138305183,
          5.970502334,
          6.918427233,
          6.193789659,
          5.840093731,
          6.438300409,
          6.823258913,
          8.707141583,
          6.024205956,
          6.458666308,
          8.37915695,
          6.31074453,
          6.466165211,
          6.310387522,
          5.878984956,
          6.675827825,
          6.481044132,
          6.124209495,
          7.26692339,
          5.826388779,
          6.520164552,
          5.673758571,
          7.488875998,
          5.871064557,
          6.058349971,
          7.016397069,
          8.173851745,
          6.913916924,
          6.33534134,
          7.265404213,
          5.651937802,
          6.836535122,
          5.956576355,
          6.453351334,
          6.716870679,
          6.9881309,
          6.64442786,
          6.925159318,
          7.474004006
         ],
         "legendgroup": "",
         "lon": [
          -75.61103107,
          -75.43847353,
          -76.08597756,
          -75.09059702,
          -75.7080031,
          -74.9812393,
          -75.94128391,
          -75.71594966,
          -75.358316,
          -75.10848954,
          -75.90426658,
          -75.91736927,
          -76.58236264,
          -76.41478317,
          -75.09469795,
          -75.80995528,
          -75.32924085,
          -75.68621659,
          -75.58973588,
          -75.98689107,
          -75.95649246,
          -76.01065253,
          -75.56223474,
          -75.91206595,
          -75.22369744,
          -75.99351498,
          -75.62642674,
          -75.28766178,
          -76.02689632,
          -74.73354817,
          -75.63082096,
          -76.64374657,
          -75.2635361,
          -75.30590654,
          -75.03501824,
          -76.63964213,
          -75.08254116,
          -75.16015403,
          -75.21785901,
          -75.90014678,
          -75.50075633,
          -76.31426328,
          -75.42227687,
          -75.78331175,
          -74.66427726,
          -75.55913083,
          -75.54686779,
          -75.67926242,
          -76.33199656,
          -75.94804663,
          -75.44795744,
          -75.19270291,
          -75.12763646,
          -75.22591303,
          -75.43730801,
          -75.15651272,
          -75.74971002,
          -75.90669203,
          -75.6142037,
          -75.67842277,
          -75.81842575,
          -75.76488256,
          -75.43086935,
          -75.64895499,
          -75.60220206,
          -75.35429023,
          -75.78300046,
          -74.71410854,
          -75.30487933,
          -75.51972693,
          -76.70861349,
          -76.4630657,
          -75.19457019,
          -76.67699588,
          -74.65844186,
          -75.77567097,
          -75.22350906,
          -75.88968843,
          -75.86076667,
          -74.5287421,
          -74.70317722,
          -74.6861918,
          -74.55865652,
          -75.51573805,
          -75.41076052,
          -75.79222754,
          -75.60880599,
          -75.98137251,
          -75.6657758,
          -74.90732769,
          -74.98176334,
          -75.70310727,
          -75.67770826,
          -76.53248234,
          -75.0076674,
          -75.5624839,
          -76.31664233,
          -74.99858652,
          -74.9450732,
          -75.32740163,
          -75.58330371,
          -75.43814333,
          -75.14260097,
          -75.25212278,
          -74.62163926,
          -74.83637623,
          -75.74580903,
          -75.70979974,
          -75.40189438,
          -75.82871144,
          -75.79966005,
          -75.71363382,
          -76.5740377,
          -76.13318514,
          -76.25906482,
          -75.40094502,
          -75.63083412,
          -74.7540302,
          -75.77722423,
          -76.69504802,
          -74.75565002,
          -75.45439957,
          -75.02990266,
          -74.15824041,
          -74.85848326
         ],
         "marker": {
          "color": [
           10726430,
           30516,
           1447,
           3273,
           63585,
           60040,
           28997,
           5475,
           48475,
           113484,
           92008,
           1986,
           515435,
           25565,
           2909,
           24335,
           127544,
           9113,
           1416674,
           7505,
           6699,
           119606,
           25927,
           10988,
           166517,
           9083,
           448615,
           7407,
           19780,
           6493,
           5395,
           185600,
           133287,
           11331,
           558324,
           179176,
           4203,
           9095,
           3089,
           15564,
           372141,
           145890,
           24293,
           8858,
           334393,
           19625,
           727752,
           30289,
           115960,
           5714,
           126812,
           7541,
           8845,
           3084,
           126998,
           12891,
           4443,
           18928,
           1272702,
           20840,
           20995,
           45711,
           299168,
           169941,
           5409,
           37430,
           3580,
           9153,
           70718,
           5663,
           834,
           21083,
           6389,
           87282,
           203365,
           3930,
           26766,
           34914,
           57278,
           103888,
           9325,
           12609,
           72879,
           65646,
           180944,
           1420,
           53640,
           4506,
           259,
           3842,
           1896,
           6596,
           2333,
           7194,
           5583,
           43438,
           28109,
           10017,
           16144,
           11831,
           11464,
           73780,
           11956,
           48852,
           49993,
           25553,
           20375,
           72280,
           173247,
           10854,
           11298,
           2382,
           433250,
           37720,
           9160,
           76688,
           4882,
           14511,
           11949,
           2577,
           28376,
           7390,
           37253,
           7278,
           129361
          ],
          "coloraxis": "coloraxis",
          "size": [
           50,
           15.098730012788348,
           15.003876499824587,
           15.009834823629047,
           15.206635713713682,
           15.195068212132735,
           15.093773444409939,
           15.017020053101895,
           15.15733107368883,
           15.369458495487345,
           15.299381298321647,
           15.00563528215241,
           16.681043496323152,
           15.082574667138907,
           15.008647074524545,
           15.078561119340723,
           15.415336936172285,
           15.028891018052947,
           19.621828702898732,
           15.023644038492394,
           15.021014022618136,
           15.389434869162537,
           15.08375589014943,
           15.035009231159936,
           15.542507666528904,
           15.028793126643235,
           16.463006696425033,
           15.023324259887335,
           15.063697940299479,
           15.020341834938115,
           15.016759009342662,
           15.60477639224659,
           15.434076615038116,
           15.036128456277641,
           16.820992318694156,
           15.5838145783803,
           15.012869457330114,
           15.02883228320712,
           15.009234422982814,
           15.049940934187978,
           16.213468440881652,
           15.475200796258049,
           15.078424071367126,
           15.028058941070396,
           16.090294943088264,
           15.063192168015968,
           17.37384384418261,
           15.097989301121528,
           15.377537799835562,
           15.017799921332598,
           15.412948385775316,
           15.023761508184048,
           15.028016521459522,
           15.009218107747863,
           15.413555312515529,
           15.041218809582656,
           15.013652588607808,
           15.060917824263663,
           19.152041301597748,
           15.067156770109296,
           15.067662542392807,
           15.148312011807382,
           15.97535411285164,
           15.553680339424012,
           15.016804692000528,
           15.12129071967993,
           15.010836579055098,
           15.029021539932563,
           15.229911027896161,
           15.017633505936088,
           15.001876252019477,
           15.067949690527962,
           15.020002478051115,
           15.283960138245046,
           15.662744422030936,
           15.011978645501737,
           15.08649358657437,
           15.1130808934521,
           15.186055676345267,
           15.338146296567526,
           15.029582784014911,
           15.040298630331364,
           15.236962472442404,
           15.213360853560884,
           15.589583645459316,
           15.003788397555848,
           15.174184711394215,
           15.013858160568203,
           15,
           15.01169149736658,
           15.005341607923274,
           15.020677928778126,
           15.006767559458076,
           15.022629230878382,
           15.017372462176857,
           15.140895105998217,
           15.09087585868247,
           15.031840812532263,
           15.051833501442406,
           15.037759979772838,
           15.036562441527364,
           15.239902477780747,
           15.038167860646636,
           15.15856124240421,
           15.16228437902025,
           15.082535510575022,
           15.065639453258763,
           15.235007907295158,
           15.564467972774255,
           15.034571982863223,
           15.036020775726957,
           15.006927448760607,
           16.412869979417632,
           15.122237003307145,
           15.029044381261496,
           15.249391418428813,
           15.01508506623659,
           15.046504945707094,
           15.038145019317705,
           15.007563742923733,
           15.091747092228905,
           15.0232687880885,
           15.12071316036263,
           15.022903326825574,
           15.42126589255383
          ],
          "sizemode": "area",
          "sizeref": 0.125
         },
         "mode": "markers",
         "name": "",
         "showlegend": false,
         "subplot": "mapbox",
         "type": "scattermapbox"
        }
       ],
       "layout": {
        "coloraxis": {
         "colorbar": {
          "title": {
           "text": "numeroatenciones"
          }
         },
         "colorscale": [
          [
           0,
           "rgb(158,1,66)"
          ],
          [
           0.1,
           "rgb(213,62,79)"
          ],
          [
           0.2,
           "rgb(244,109,67)"
          ],
          [
           0.3,
           "rgb(253,174,97)"
          ],
          [
           0.4,
           "rgb(254,224,139)"
          ],
          [
           0.5,
           "rgb(255,255,191)"
          ],
          [
           0.6,
           "rgb(230,245,152)"
          ],
          [
           0.7,
           "rgb(171,221,164)"
          ],
          [
           0.8,
           "rgb(102,194,165)"
          ],
          [
           0.9,
           "rgb(50,136,189)"
          ],
          [
           1,
           "rgb(94,79,162)"
          ]
         ]
        },
        "height": 600,
        "legend": {
         "itemsizing": "constant",
         "tracegroupgap": 0
        },
        "mapbox": {
         "center": {
          "lat": 6.546370456559999,
          "lon": -75.54571028560002
         },
         "domain": {
          "x": [
           0,
           1
          ],
          "y": [
           0,
           1
          ]
         },
         "style": "carto-positron",
         "zoom": 6.2
        },
        "template": {
         "data": {
          "bar": [
           {
            "error_x": {
             "color": "#2a3f5f"
            },
            "error_y": {
             "color": "#2a3f5f"
            },
            "marker": {
             "line": {
              "color": "#E5ECF6",
              "width": 0.5
             },
             "pattern": {
              "fillmode": "overlay",
              "size": 10,
              "solidity": 0.2
             }
            },
            "type": "bar"
           }
          ],
          "barpolar": [
           {
            "marker": {
             "line": {
              "color": "#E5ECF6",
              "width": 0.5
             },
             "pattern": {
              "fillmode": "overlay",
              "size": 10,
              "solidity": 0.2
             }
            },
            "type": "barpolar"
           }
          ],
          "carpet": [
           {
            "aaxis": {
             "endlinecolor": "#2a3f5f",
             "gridcolor": "white",
             "linecolor": "white",
             "minorgridcolor": "white",
             "startlinecolor": "#2a3f5f"
            },
            "baxis": {
             "endlinecolor": "#2a3f5f",
             "gridcolor": "white",
             "linecolor": "white",
             "minorgridcolor": "white",
             "startlinecolor": "#2a3f5f"
            },
            "type": "carpet"
           }
          ],
          "choropleth": [
           {
            "colorbar": {
             "outlinewidth": 0,
             "ticks": ""
            },
            "type": "choropleth"
           }
          ],
          "contour": [
           {
            "colorbar": {
             "outlinewidth": 0,
             "ticks": ""
            },
            "colorscale": [
             [
              0,
              "#0d0887"
             ],
             [
              0.1111111111111111,
              "#46039f"
             ],
             [
              0.2222222222222222,
              "#7201a8"
             ],
             [
              0.3333333333333333,
              "#9c179e"
             ],
             [
              0.4444444444444444,
              "#bd3786"
             ],
             [
              0.5555555555555556,
              "#d8576b"
             ],
             [
              0.6666666666666666,
              "#ed7953"
             ],
             [
              0.7777777777777778,
              "#fb9f3a"
             ],
             [
              0.8888888888888888,
              "#fdca26"
             ],
             [
              1,
              "#f0f921"
             ]
            ],
            "type": "contour"
           }
          ],
          "contourcarpet": [
           {
            "colorbar": {
             "outlinewidth": 0,
             "ticks": ""
            },
            "type": "contourcarpet"
           }
          ],
          "heatmap": [
           {
            "colorbar": {
             "outlinewidth": 0,
             "ticks": ""
            },
            "colorscale": [
             [
              0,
              "#0d0887"
             ],
             [
              0.1111111111111111,
              "#46039f"
             ],
             [
              0.2222222222222222,
              "#7201a8"
             ],
             [
              0.3333333333333333,
              "#9c179e"
             ],
             [
              0.4444444444444444,
              "#bd3786"
             ],
             [
              0.5555555555555556,
              "#d8576b"
             ],
             [
              0.6666666666666666,
              "#ed7953"
             ],
             [
              0.7777777777777778,
              "#fb9f3a"
             ],
             [
              0.8888888888888888,
              "#fdca26"
             ],
             [
              1,
              "#f0f921"
             ]
            ],
            "type": "heatmap"
           }
          ],
          "heatmapgl": [
           {
            "colorbar": {
             "outlinewidth": 0,
             "ticks": ""
            },
            "colorscale": [
             [
              0,
              "#0d0887"
             ],
             [
              0.1111111111111111,
              "#46039f"
             ],
             [
              0.2222222222222222,
              "#7201a8"
             ],
             [
              0.3333333333333333,
              "#9c179e"
             ],
             [
              0.4444444444444444,
              "#bd3786"
             ],
             [
              0.5555555555555556,
              "#d8576b"
             ],
             [
              0.6666666666666666,
              "#ed7953"
             ],
             [
              0.7777777777777778,
              "#fb9f3a"
             ],
             [
              0.8888888888888888,
              "#fdca26"
             ],
             [
              1,
              "#f0f921"
             ]
            ],
            "type": "heatmapgl"
           }
          ],
          "histogram": [
           {
            "marker": {
             "pattern": {
              "fillmode": "overlay",
              "size": 10,
              "solidity": 0.2
             }
            },
            "type": "histogram"
           }
          ],
          "histogram2d": [
           {
            "colorbar": {
             "outlinewidth": 0,
             "ticks": ""
            },
            "colorscale": [
             [
              0,
              "#0d0887"
             ],
             [
              0.1111111111111111,
              "#46039f"
             ],
             [
              0.2222222222222222,
              "#7201a8"
             ],
             [
              0.3333333333333333,
              "#9c179e"
             ],
             [
              0.4444444444444444,
              "#bd3786"
             ],
             [
              0.5555555555555556,
              "#d8576b"
             ],
             [
              0.6666666666666666,
              "#ed7953"
             ],
             [
              0.7777777777777778,
              "#fb9f3a"
             ],
             [
              0.8888888888888888,
              "#fdca26"
             ],
             [
              1,
              "#f0f921"
             ]
            ],
            "type": "histogram2d"
           }
          ],
          "histogram2dcontour": [
           {
            "colorbar": {
             "outlinewidth": 0,
             "ticks": ""
            },
            "colorscale": [
             [
              0,
              "#0d0887"
             ],
             [
              0.1111111111111111,
              "#46039f"
             ],
             [
              0.2222222222222222,
              "#7201a8"
             ],
             [
              0.3333333333333333,
              "#9c179e"
             ],
             [
              0.4444444444444444,
              "#bd3786"
             ],
             [
              0.5555555555555556,
              "#d8576b"
             ],
             [
              0.6666666666666666,
              "#ed7953"
             ],
             [
              0.7777777777777778,
              "#fb9f3a"
             ],
             [
              0.8888888888888888,
              "#fdca26"
             ],
             [
              1,
              "#f0f921"
             ]
            ],
            "type": "histogram2dcontour"
           }
          ],
          "mesh3d": [
           {
            "colorbar": {
             "outlinewidth": 0,
             "ticks": ""
            },
            "type": "mesh3d"
           }
          ],
          "parcoords": [
           {
            "line": {
             "colorbar": {
              "outlinewidth": 0,
              "ticks": ""
             }
            },
            "type": "parcoords"
           }
          ],
          "pie": [
           {
            "automargin": true,
            "type": "pie"
           }
          ],
          "scatter": [
           {
            "fillpattern": {
             "fillmode": "overlay",
             "size": 10,
             "solidity": 0.2
            },
            "type": "scatter"
           }
          ],
          "scatter3d": [
           {
            "line": {
             "colorbar": {
              "outlinewidth": 0,
              "ticks": ""
             }
            },
            "marker": {
             "colorbar": {
              "outlinewidth": 0,
              "ticks": ""
             }
            },
            "type": "scatter3d"
           }
          ],
          "scattercarpet": [
           {
            "marker": {
             "colorbar": {
              "outlinewidth": 0,
              "ticks": ""
             }
            },
            "type": "scattercarpet"
           }
          ],
          "scattergeo": [
           {
            "marker": {
             "colorbar": {
              "outlinewidth": 0,
              "ticks": ""
             }
            },
            "type": "scattergeo"
           }
          ],
          "scattergl": [
           {
            "marker": {
             "colorbar": {
              "outlinewidth": 0,
              "ticks": ""
             }
            },
            "type": "scattergl"
           }
          ],
          "scattermapbox": [
           {
            "marker": {
             "colorbar": {
              "outlinewidth": 0,
              "ticks": ""
             }
            },
            "type": "scattermapbox"
           }
          ],
          "scatterpolar": [
           {
            "marker": {
             "colorbar": {
              "outlinewidth": 0,
              "ticks": ""
             }
            },
            "type": "scatterpolar"
           }
          ],
          "scatterpolargl": [
           {
            "marker": {
             "colorbar": {
              "outlinewidth": 0,
              "ticks": ""
             }
            },
            "type": "scatterpolargl"
           }
          ],
          "scatterternary": [
           {
            "marker": {
             "colorbar": {
              "outlinewidth": 0,
              "ticks": ""
             }
            },
            "type": "scatterternary"
           }
          ],
          "surface": [
           {
            "colorbar": {
             "outlinewidth": 0,
             "ticks": ""
            },
            "colorscale": [
             [
              0,
              "#0d0887"
             ],
             [
              0.1111111111111111,
              "#46039f"
             ],
             [
              0.2222222222222222,
              "#7201a8"
             ],
             [
              0.3333333333333333,
              "#9c179e"
             ],
             [
              0.4444444444444444,
              "#bd3786"
             ],
             [
              0.5555555555555556,
              "#d8576b"
             ],
             [
              0.6666666666666666,
              "#ed7953"
             ],
             [
              0.7777777777777778,
              "#fb9f3a"
             ],
             [
              0.8888888888888888,
              "#fdca26"
             ],
             [
              1,
              "#f0f921"
             ]
            ],
            "type": "surface"
           }
          ],
          "table": [
           {
            "cells": {
             "fill": {
              "color": "#EBF0F8"
             },
             "line": {
              "color": "white"
             }
            },
            "header": {
             "fill": {
              "color": "#C8D4E3"
             },
             "line": {
              "color": "white"
             }
            },
            "type": "table"
           }
          ]
         },
         "layout": {
          "annotationdefaults": {
           "arrowcolor": "#2a3f5f",
           "arrowhead": 0,
           "arrowwidth": 1
          },
          "autotypenumbers": "strict",
          "coloraxis": {
           "colorbar": {
            "outlinewidth": 0,
            "ticks": ""
           }
          },
          "colorscale": {
           "diverging": [
            [
             0,
             "#8e0152"
            ],
            [
             0.1,
             "#c51b7d"
            ],
            [
             0.2,
             "#de77ae"
            ],
            [
             0.3,
             "#f1b6da"
            ],
            [
             0.4,
             "#fde0ef"
            ],
            [
             0.5,
             "#f7f7f7"
            ],
            [
             0.6,
             "#e6f5d0"
            ],
            [
             0.7,
             "#b8e186"
            ],
            [
             0.8,
             "#7fbc41"
            ],
            [
             0.9,
             "#4d9221"
            ],
            [
             1,
             "#276419"
            ]
           ],
           "sequential": [
            [
             0,
             "#0d0887"
            ],
            [
             0.1111111111111111,
             "#46039f"
            ],
            [
             0.2222222222222222,
             "#7201a8"
            ],
            [
             0.3333333333333333,
             "#9c179e"
            ],
            [
             0.4444444444444444,
             "#bd3786"
            ],
            [
             0.5555555555555556,
             "#d8576b"
            ],
            [
             0.6666666666666666,
             "#ed7953"
            ],
            [
             0.7777777777777778,
             "#fb9f3a"
            ],
            [
             0.8888888888888888,
             "#fdca26"
            ],
            [
             1,
             "#f0f921"
            ]
           ],
           "sequentialminus": [
            [
             0,
             "#0d0887"
            ],
            [
             0.1111111111111111,
             "#46039f"
            ],
            [
             0.2222222222222222,
             "#7201a8"
            ],
            [
             0.3333333333333333,
             "#9c179e"
            ],
            [
             0.4444444444444444,
             "#bd3786"
            ],
            [
             0.5555555555555556,
             "#d8576b"
            ],
            [
             0.6666666666666666,
             "#ed7953"
            ],
            [
             0.7777777777777778,
             "#fb9f3a"
            ],
            [
             0.8888888888888888,
             "#fdca26"
            ],
            [
             1,
             "#f0f921"
            ]
           ]
          },
          "colorway": [
           "#636efa",
           "#EF553B",
           "#00cc96",
           "#ab63fa",
           "#FFA15A",
           "#19d3f3",
           "#FF6692",
           "#B6E880",
           "#FF97FF",
           "#FECB52"
          ],
          "font": {
           "color": "#2a3f5f"
          },
          "geo": {
           "bgcolor": "white",
           "lakecolor": "white",
           "landcolor": "#E5ECF6",
           "showlakes": true,
           "showland": true,
           "subunitcolor": "white"
          },
          "hoverlabel": {
           "align": "left"
          },
          "hovermode": "closest",
          "mapbox": {
           "style": "light"
          },
          "paper_bgcolor": "white",
          "plot_bgcolor": "#E5ECF6",
          "polar": {
           "angularaxis": {
            "gridcolor": "white",
            "linecolor": "white",
            "ticks": ""
           },
           "bgcolor": "#E5ECF6",
           "radialaxis": {
            "gridcolor": "white",
            "linecolor": "white",
            "ticks": ""
           }
          },
          "scene": {
           "xaxis": {
            "backgroundcolor": "#E5ECF6",
            "gridcolor": "white",
            "gridwidth": 2,
            "linecolor": "white",
            "showbackground": true,
            "ticks": "",
            "zerolinecolor": "white"
           },
           "yaxis": {
            "backgroundcolor": "#E5ECF6",
            "gridcolor": "white",
            "gridwidth": 2,
            "linecolor": "white",
            "showbackground": true,
            "ticks": "",
            "zerolinecolor": "white"
           },
           "zaxis": {
            "backgroundcolor": "#E5ECF6",
            "gridcolor": "white",
            "gridwidth": 2,
            "linecolor": "white",
            "showbackground": true,
            "ticks": "",
            "zerolinecolor": "white"
           }
          },
          "shapedefaults": {
           "line": {
            "color": "#2a3f5f"
           }
          },
          "ternary": {
           "aaxis": {
            "gridcolor": "white",
            "linecolor": "white",
            "ticks": ""
           },
           "baxis": {
            "gridcolor": "white",
            "linecolor": "white",
            "ticks": ""
           },
           "bgcolor": "#E5ECF6",
           "caxis": {
            "gridcolor": "white",
            "linecolor": "white",
            "ticks": ""
           }
          },
          "title": {
           "x": 0.05
          },
          "xaxis": {
           "automargin": true,
           "gridcolor": "white",
           "linecolor": "white",
           "ticks": "",
           "title": {
            "standoff": 15
           },
           "zerolinecolor": "white",
           "zerolinewidth": 2
          },
          "yaxis": {
           "automargin": true,
           "gridcolor": "white",
           "linecolor": "white",
           "ticks": "",
           "title": {
            "standoff": 15
           },
           "zerolinecolor": "white",
           "zerolinewidth": 2
          }
         }
        },
        "title": {
         "text": "Atenciones médicas por municipio (tamaño normalizado)"
        }
       }
      },
      "text/html": [
       "<div>                            <div id=\"4d45f021-9833-4e2d-beb9-1b86010a2022\" class=\"plotly-graph-div\" style=\"height:600px; width:100%;\"></div>            <script type=\"text/javascript\">                require([\"plotly\"], function(Plotly) {                    window.PLOTLYENV=window.PLOTLYENV || {};                                    if (document.getElementById(\"4d45f021-9833-4e2d-beb9-1b86010a2022\")) {                    Plotly.newPlot(                        \"4d45f021-9833-4e2d-beb9-1b86010a2022\",                        [{\"customdata\":[[10726430],[30516],[1447],[3273],[63585],[60040],[28997],[5475],[48475],[113484],[92008],[1986],[515435],[25565],[2909],[24335],[127544],[9113],[1416674],[7505],[6699],[119606],[25927],[10988],[166517],[9083],[448615],[7407],[19780],[6493],[5395],[185600],[133287],[11331],[558324],[179176],[4203],[9095],[3089],[15564],[372141],[145890],[24293],[8858],[334393],[19625],[727752],[30289],[115960],[5714],[126812],[7541],[8845],[3084],[126998],[12891],[4443],[18928],[1272702],[20840],[20995],[45711],[299168],[169941],[5409],[37430],[3580],[9153],[70718],[5663],[834],[21083],[6389],[87282],[203365],[3930],[26766],[34914],[57278],[103888],[9325],[12609],[72879],[65646],[180944],[1420],[53640],[4506],[259],[3842],[1896],[6596],[2333],[7194],[5583],[43438],[28109],[10017],[16144],[11831],[11464],[73780],[11956],[48852],[49993],[25553],[20375],[72280],[173247],[10854],[11298],[2382],[433250],[37720],[9160],[76688],[4882],[14511],[11949],[2577],[28376],[7390],[37253],[7278],[129361]],\"hovertemplate\":\"<b>%{hovertext}</b><br><br>size_normalized=%{marker.size}<br>latitud=%{lat}<br>longitud=%{lon}<br>numeroatenciones=%{marker.color}<extra></extra>\",\"hovertext\":[\"MEDELL\\u00cdN\",\"ABEJORRAL\",\"ABRIAQU\\u00cd\",\"ALEJANDR\\u00cdA\",\"AMAG\\u00c1\",\"AMALFI\",\"ANDES\",\"ANGEL\\u00d3POLIS\",\"ANGOSTURA\",\"ANOR\\u00cd\",\"SANTA F\\u00c9 DE ANTIOQUIA\",\"ANZ\\u00c1\",\"APARTAD\\u00d3\",\"ARBOLETES\",\"ARGELIA\",\"ARMENIA\",\"BARBOSA\",\"BELMIRA\",\"BELLO\",\"BETANIA\",\"BETULIA\",\"CIUDAD BOL\\u00cdVAR\",\"BRICE\\u00d1O\",\"BURITIC\\u00c1\",\"C\\u00c1CERES\",\"CAICEDO\",\"CALDAS\",\"CAMPAMENTO\",\"CA\\u00d1ASGORDAS\",\"CARACOL\\u00cd\",\"CARAMANTA\",\"CAREPA\",\"EL CARMEN DE VIBORAL\",\"CAROLINA\",\"CAUCASIA\",\"CHIGOROD\\u00d3\",\"CISNEROS\",\"COCORN\\u00c1\",\"CONCEPCI\\u00d3N\",\"CONCORDIA\",\"COPACABANA\",\"DABEIBA\",\"DONMAT\\u00cdAS\",\"EB\\u00c9JICO\",\"EL BAGRE\",\"ENTRERR\\u00cdOS\",\"ENVIGADO\",\"FREDONIA\",\"FRONTINO\",\"GIRALDO\",\"GIRARDOTA\",\"G\\u00d3MEZ PLATA\",\"GRANADA\",\"GUADALUPE\",\"GUARNE\",\"GUATAP\\u00c9\",\"HELICONIA\",\"HISPANIA\",\"ITAG\\u00dc\\u00cd\",\"ITUANGO\",\"JARD\\u00cdN\",\"JERIC\\u00d3\",\"LA CEJA\",\"LA ESTRELLA\",\"LA PINTADA\",\"LA UNI\\u00d3N\",\"LIBORINA\",\"MACEO\",\"MARINILLA\",\"MONTEBELLO\",\"MURIND\\u00d3\",\"MUTAT\\u00c1\",\"NARI\\u00d1O\",\"NECOCL\\u00cd\",\"NECH\\u00cd\",\"OLAYA\",\"PE\\u00d1OL\",\"PEQUE\",\"PUEBLORRICO\",\"PUERTO BERR\\u00cdO\",\"PUERTO NARE\",\"PUERTO TRIUNFO\",\"REMEDIOS\",\"RETIRO\",\"RIONEGRO\",\"SABANALARGA\",\"SABANETA\",\"SALGAR\",\"SAN ANDR\\u00c9S DE CUERQU\\u00cdA\",\"SAN CARLOS\",\"SAN FRANCISCO\",\"SAN JER\\u00d3NIMO\",\"SAN JOS\\u00c9 DE LA MONTA\\u00d1A\",\"SAN JUAN DE URAB\\u00c1\",\"SAN LUIS\",\"SAN PEDRO DE LOS MILAGROS\",\"SAN PEDRO DE URAB\\u00c1\",\"SAN RAFAEL\",\"SAN ROQUE\",\"SAN VICENTE FERRER\",\"SANTA B\\u00c1RBARA\",\"SANTA ROSA DE OSOS\",\"SANTO DOMINGO\",\"EL SANTUARIO\",\"SEGOVIA\",\"SONS\\u00d3N\",\"SOPETR\\u00c1N\",\"T\\u00c1MESIS\",\"TARAZ\\u00c1\",\"TARSO\",\"TITIRIB\\u00cd\",\"TOLEDO\",\"TURBO\",\"URAMITA\",\"URRAO\",\"VALDIVIA\",\"VALPARA\\u00cdSO\",\"VEGACH\\u00cd\",\"VENECIA\",\"VIG\\u00cdA DEL FUERTE\",\"YAL\\u00cd\",\"YARUMAL\",\"YOLOMB\\u00d3\",\"YOND\\u00d3\",\"ZARAGOZA\"],\"lat\":[6.257590259,5.803728154,6.627569378,6.365534125,6.032921994,6.977788843,5.604993248,6.121430303,6.861498764,7.193110778,6.535711576,6.293546613,7.86047815,8.611395262,5.708114524,6.163683758,6.443417935,6.665853953,6.358841086,5.727081285,6.185783612,5.840995666,7.111788462,6.80906489,7.665155105,6.423463639,6.054446841,7.036017478,6.814950023,6.33797388,5.555275296,7.757967437,5.978078841,6.754821442,7.867941792,7.631665644,6.550065431,6.005593074,6.376106187,6.057468678,6.351882893,6.992243782,6.492403905,6.326444922,7.704633351,6.594656004,6.154394922,5.887702934,6.691364773,6.663095863,6.379745895,6.709562839,6.123380721,6.861576325,6.266625703,6.236329826,6.214511788,5.797039002,6.179279438,7.341549718,5.574444339,5.769820536,5.992524843,6.137595883,5.746583958,5.940434685,6.723990935,6.534573585,6.18520515,5.916853903,6.828773855,7.329557848,5.581275312,8.493728551,7.983477394,6.611418083,6.232396368,7.044180058,5.80970186,6.481922267,6.126539139,5.954830151,6.997267375,6.053444254,6.150785807,6.901000506,6.138305183,5.970502334,6.918427233,6.193789659,5.840093731,6.438300409,6.823258913,8.707141583,6.024205956,6.458666308,8.37915695,6.31074453,6.466165211,6.310387522,5.878984956,6.675827825,6.481044132,6.124209495,7.26692339,5.826388779,6.520164552,5.673758571,7.488875998,5.871064557,6.058349971,7.016397069,8.173851745,6.913916924,6.33534134,7.265404213,5.651937802,6.836535122,5.956576355,6.453351334,6.716870679,6.9881309,6.64442786,6.925159318,7.474004006],\"legendgroup\":\"\",\"lon\":[-75.61103107,-75.43847353,-76.08597756,-75.09059702,-75.7080031,-74.9812393,-75.94128391,-75.71594966,-75.358316,-75.10848954,-75.90426658,-75.91736927,-76.58236264,-76.41478317,-75.09469795,-75.80995528,-75.32924085,-75.68621659,-75.58973588,-75.98689107,-75.95649246,-76.01065253,-75.56223474,-75.91206595,-75.22369744,-75.99351498,-75.62642674,-75.28766178,-76.02689632,-74.73354817,-75.63082096,-76.64374657,-75.2635361,-75.30590654,-75.03501824,-76.63964213,-75.08254116,-75.16015403,-75.21785901,-75.90014678,-75.50075633,-76.31426328,-75.42227687,-75.78331175,-74.66427726,-75.55913083,-75.54686779,-75.67926242,-76.33199656,-75.94804663,-75.44795744,-75.19270291,-75.12763646,-75.22591303,-75.43730801,-75.15651272,-75.74971002,-75.90669203,-75.6142037,-75.67842277,-75.81842575,-75.76488256,-75.43086935,-75.64895499,-75.60220206,-75.35429023,-75.78300046,-74.71410854,-75.30487933,-75.51972693,-76.70861349,-76.4630657,-75.19457019,-76.67699588,-74.65844186,-75.77567097,-75.22350906,-75.88968843,-75.86076667,-74.5287421,-74.70317722,-74.6861918,-74.55865652,-75.51573805,-75.41076052,-75.79222754,-75.60880599,-75.98137251,-75.6657758,-74.90732769,-74.98176334,-75.70310727,-75.67770826,-76.53248234,-75.0076674,-75.5624839,-76.31664233,-74.99858652,-74.9450732,-75.32740163,-75.58330371,-75.43814333,-75.14260097,-75.25212278,-74.62163926,-74.83637623,-75.74580903,-75.70979974,-75.40189438,-75.82871144,-75.79966005,-75.71363382,-76.5740377,-76.13318514,-76.25906482,-75.40094502,-75.63083412,-74.7540302,-75.77722423,-76.69504802,-74.75565002,-75.45439957,-75.02990266,-74.15824041,-74.85848326],\"marker\":{\"color\":[10726430,30516,1447,3273,63585,60040,28997,5475,48475,113484,92008,1986,515435,25565,2909,24335,127544,9113,1416674,7505,6699,119606,25927,10988,166517,9083,448615,7407,19780,6493,5395,185600,133287,11331,558324,179176,4203,9095,3089,15564,372141,145890,24293,8858,334393,19625,727752,30289,115960,5714,126812,7541,8845,3084,126998,12891,4443,18928,1272702,20840,20995,45711,299168,169941,5409,37430,3580,9153,70718,5663,834,21083,6389,87282,203365,3930,26766,34914,57278,103888,9325,12609,72879,65646,180944,1420,53640,4506,259,3842,1896,6596,2333,7194,5583,43438,28109,10017,16144,11831,11464,73780,11956,48852,49993,25553,20375,72280,173247,10854,11298,2382,433250,37720,9160,76688,4882,14511,11949,2577,28376,7390,37253,7278,129361],\"coloraxis\":\"coloraxis\",\"size\":[50.0,15.098730012788348,15.003876499824587,15.009834823629047,15.206635713713682,15.195068212132735,15.093773444409939,15.017020053101895,15.15733107368883,15.369458495487345,15.299381298321647,15.00563528215241,16.681043496323152,15.082574667138907,15.008647074524545,15.078561119340723,15.415336936172285,15.028891018052947,19.621828702898732,15.023644038492394,15.021014022618136,15.389434869162537,15.08375589014943,15.035009231159936,15.542507666528904,15.028793126643235,16.463006696425033,15.023324259887335,15.063697940299479,15.020341834938115,15.016759009342662,15.60477639224659,15.434076615038116,15.036128456277641,16.820992318694156,15.5838145783803,15.012869457330114,15.02883228320712,15.009234422982814,15.049940934187978,16.213468440881652,15.475200796258049,15.078424071367126,15.028058941070396,16.090294943088264,15.063192168015968,17.37384384418261,15.097989301121528,15.377537799835562,15.017799921332598,15.412948385775316,15.023761508184048,15.028016521459522,15.009218107747863,15.413555312515529,15.041218809582656,15.013652588607808,15.060917824263663,19.152041301597748,15.067156770109296,15.067662542392807,15.148312011807382,15.97535411285164,15.553680339424012,15.016804692000528,15.12129071967993,15.010836579055098,15.029021539932563,15.229911027896161,15.017633505936088,15.001876252019477,15.067949690527962,15.020002478051115,15.283960138245046,15.662744422030936,15.011978645501737,15.08649358657437,15.1130808934521,15.186055676345267,15.338146296567526,15.029582784014911,15.040298630331364,15.236962472442404,15.213360853560884,15.589583645459316,15.003788397555848,15.174184711394215,15.013858160568203,15.0,15.01169149736658,15.005341607923274,15.020677928778126,15.006767559458076,15.022629230878382,15.017372462176857,15.140895105998217,15.09087585868247,15.031840812532263,15.051833501442406,15.037759979772838,15.036562441527364,15.239902477780747,15.038167860646636,15.15856124240421,15.16228437902025,15.082535510575022,15.065639453258763,15.235007907295158,15.564467972774255,15.034571982863223,15.036020775726957,15.006927448760607,16.412869979417632,15.122237003307145,15.029044381261496,15.249391418428813,15.01508506623659,15.046504945707094,15.038145019317705,15.007563742923733,15.091747092228905,15.0232687880885,15.12071316036263,15.022903326825574,15.42126589255383],\"sizemode\":\"area\",\"sizeref\":0.125},\"mode\":\"markers\",\"name\":\"\",\"showlegend\":false,\"subplot\":\"mapbox\",\"type\":\"scattermapbox\"}],                        {\"template\":{\"data\":{\"histogram2dcontour\":[{\"type\":\"histogram2dcontour\",\"colorbar\":{\"outlinewidth\":0,\"ticks\":\"\"},\"colorscale\":[[0.0,\"#0d0887\"],[0.1111111111111111,\"#46039f\"],[0.2222222222222222,\"#7201a8\"],[0.3333333333333333,\"#9c179e\"],[0.4444444444444444,\"#bd3786\"],[0.5555555555555556,\"#d8576b\"],[0.6666666666666666,\"#ed7953\"],[0.7777777777777778,\"#fb9f3a\"],[0.8888888888888888,\"#fdca26\"],[1.0,\"#f0f921\"]]}],\"choropleth\":[{\"type\":\"choropleth\",\"colorbar\":{\"outlinewidth\":0,\"ticks\":\"\"}}],\"histogram2d\":[{\"type\":\"histogram2d\",\"colorbar\":{\"outlinewidth\":0,\"ticks\":\"\"},\"colorscale\":[[0.0,\"#0d0887\"],[0.1111111111111111,\"#46039f\"],[0.2222222222222222,\"#7201a8\"],[0.3333333333333333,\"#9c179e\"],[0.4444444444444444,\"#bd3786\"],[0.5555555555555556,\"#d8576b\"],[0.6666666666666666,\"#ed7953\"],[0.7777777777777778,\"#fb9f3a\"],[0.8888888888888888,\"#fdca26\"],[1.0,\"#f0f921\"]]}],\"heatmap\":[{\"type\":\"heatmap\",\"colorbar\":{\"outlinewidth\":0,\"ticks\":\"\"},\"colorscale\":[[0.0,\"#0d0887\"],[0.1111111111111111,\"#46039f\"],[0.2222222222222222,\"#7201a8\"],[0.3333333333333333,\"#9c179e\"],[0.4444444444444444,\"#bd3786\"],[0.5555555555555556,\"#d8576b\"],[0.6666666666666666,\"#ed7953\"],[0.7777777777777778,\"#fb9f3a\"],[0.8888888888888888,\"#fdca26\"],[1.0,\"#f0f921\"]]}],\"heatmapgl\":[{\"type\":\"heatmapgl\",\"colorbar\":{\"outlinewidth\":0,\"ticks\":\"\"},\"colorscale\":[[0.0,\"#0d0887\"],[0.1111111111111111,\"#46039f\"],[0.2222222222222222,\"#7201a8\"],[0.3333333333333333,\"#9c179e\"],[0.4444444444444444,\"#bd3786\"],[0.5555555555555556,\"#d8576b\"],[0.6666666666666666,\"#ed7953\"],[0.7777777777777778,\"#fb9f3a\"],[0.8888888888888888,\"#fdca26\"],[1.0,\"#f0f921\"]]}],\"contourcarpet\":[{\"type\":\"contourcarpet\",\"colorbar\":{\"outlinewidth\":0,\"ticks\":\"\"}}],\"contour\":[{\"type\":\"contour\",\"colorbar\":{\"outlinewidth\":0,\"ticks\":\"\"},\"colorscale\":[[0.0,\"#0d0887\"],[0.1111111111111111,\"#46039f\"],[0.2222222222222222,\"#7201a8\"],[0.3333333333333333,\"#9c179e\"],[0.4444444444444444,\"#bd3786\"],[0.5555555555555556,\"#d8576b\"],[0.6666666666666666,\"#ed7953\"],[0.7777777777777778,\"#fb9f3a\"],[0.8888888888888888,\"#fdca26\"],[1.0,\"#f0f921\"]]}],\"surface\":[{\"type\":\"surface\",\"colorbar\":{\"outlinewidth\":0,\"ticks\":\"\"},\"colorscale\":[[0.0,\"#0d0887\"],[0.1111111111111111,\"#46039f\"],[0.2222222222222222,\"#7201a8\"],[0.3333333333333333,\"#9c179e\"],[0.4444444444444444,\"#bd3786\"],[0.5555555555555556,\"#d8576b\"],[0.6666666666666666,\"#ed7953\"],[0.7777777777777778,\"#fb9f3a\"],[0.8888888888888888,\"#fdca26\"],[1.0,\"#f0f921\"]]}],\"mesh3d\":[{\"type\":\"mesh3d\",\"colorbar\":{\"outlinewidth\":0,\"ticks\":\"\"}}],\"scatter\":[{\"fillpattern\":{\"fillmode\":\"overlay\",\"size\":10,\"solidity\":0.2},\"type\":\"scatter\"}],\"parcoords\":[{\"type\":\"parcoords\",\"line\":{\"colorbar\":{\"outlinewidth\":0,\"ticks\":\"\"}}}],\"scatterpolargl\":[{\"type\":\"scatterpolargl\",\"marker\":{\"colorbar\":{\"outlinewidth\":0,\"ticks\":\"\"}}}],\"bar\":[{\"error_x\":{\"color\":\"#2a3f5f\"},\"error_y\":{\"color\":\"#2a3f5f\"},\"marker\":{\"line\":{\"color\":\"#E5ECF6\",\"width\":0.5},\"pattern\":{\"fillmode\":\"overlay\",\"size\":10,\"solidity\":0.2}},\"type\":\"bar\"}],\"scattergeo\":[{\"type\":\"scattergeo\",\"marker\":{\"colorbar\":{\"outlinewidth\":0,\"ticks\":\"\"}}}],\"scatterpolar\":[{\"type\":\"scatterpolar\",\"marker\":{\"colorbar\":{\"outlinewidth\":0,\"ticks\":\"\"}}}],\"histogram\":[{\"marker\":{\"pattern\":{\"fillmode\":\"overlay\",\"size\":10,\"solidity\":0.2}},\"type\":\"histogram\"}],\"scattergl\":[{\"type\":\"scattergl\",\"marker\":{\"colorbar\":{\"outlinewidth\":0,\"ticks\":\"\"}}}],\"scatter3d\":[{\"type\":\"scatter3d\",\"line\":{\"colorbar\":{\"outlinewidth\":0,\"ticks\":\"\"}},\"marker\":{\"colorbar\":{\"outlinewidth\":0,\"ticks\":\"\"}}}],\"scattermapbox\":[{\"type\":\"scattermapbox\",\"marker\":{\"colorbar\":{\"outlinewidth\":0,\"ticks\":\"\"}}}],\"scatterternary\":[{\"type\":\"scatterternary\",\"marker\":{\"colorbar\":{\"outlinewidth\":0,\"ticks\":\"\"}}}],\"scattercarpet\":[{\"type\":\"scattercarpet\",\"marker\":{\"colorbar\":{\"outlinewidth\":0,\"ticks\":\"\"}}}],\"carpet\":[{\"aaxis\":{\"endlinecolor\":\"#2a3f5f\",\"gridcolor\":\"white\",\"linecolor\":\"white\",\"minorgridcolor\":\"white\",\"startlinecolor\":\"#2a3f5f\"},\"baxis\":{\"endlinecolor\":\"#2a3f5f\",\"gridcolor\":\"white\",\"linecolor\":\"white\",\"minorgridcolor\":\"white\",\"startlinecolor\":\"#2a3f5f\"},\"type\":\"carpet\"}],\"table\":[{\"cells\":{\"fill\":{\"color\":\"#EBF0F8\"},\"line\":{\"color\":\"white\"}},\"header\":{\"fill\":{\"color\":\"#C8D4E3\"},\"line\":{\"color\":\"white\"}},\"type\":\"table\"}],\"barpolar\":[{\"marker\":{\"line\":{\"color\":\"#E5ECF6\",\"width\":0.5},\"pattern\":{\"fillmode\":\"overlay\",\"size\":10,\"solidity\":0.2}},\"type\":\"barpolar\"}],\"pie\":[{\"automargin\":true,\"type\":\"pie\"}]},\"layout\":{\"autotypenumbers\":\"strict\",\"colorway\":[\"#636efa\",\"#EF553B\",\"#00cc96\",\"#ab63fa\",\"#FFA15A\",\"#19d3f3\",\"#FF6692\",\"#B6E880\",\"#FF97FF\",\"#FECB52\"],\"font\":{\"color\":\"#2a3f5f\"},\"hovermode\":\"closest\",\"hoverlabel\":{\"align\":\"left\"},\"paper_bgcolor\":\"white\",\"plot_bgcolor\":\"#E5ECF6\",\"polar\":{\"bgcolor\":\"#E5ECF6\",\"angularaxis\":{\"gridcolor\":\"white\",\"linecolor\":\"white\",\"ticks\":\"\"},\"radialaxis\":{\"gridcolor\":\"white\",\"linecolor\":\"white\",\"ticks\":\"\"}},\"ternary\":{\"bgcolor\":\"#E5ECF6\",\"aaxis\":{\"gridcolor\":\"white\",\"linecolor\":\"white\",\"ticks\":\"\"},\"baxis\":{\"gridcolor\":\"white\",\"linecolor\":\"white\",\"ticks\":\"\"},\"caxis\":{\"gridcolor\":\"white\",\"linecolor\":\"white\",\"ticks\":\"\"}},\"coloraxis\":{\"colorbar\":{\"outlinewidth\":0,\"ticks\":\"\"}},\"colorscale\":{\"sequential\":[[0.0,\"#0d0887\"],[0.1111111111111111,\"#46039f\"],[0.2222222222222222,\"#7201a8\"],[0.3333333333333333,\"#9c179e\"],[0.4444444444444444,\"#bd3786\"],[0.5555555555555556,\"#d8576b\"],[0.6666666666666666,\"#ed7953\"],[0.7777777777777778,\"#fb9f3a\"],[0.8888888888888888,\"#fdca26\"],[1.0,\"#f0f921\"]],\"sequentialminus\":[[0.0,\"#0d0887\"],[0.1111111111111111,\"#46039f\"],[0.2222222222222222,\"#7201a8\"],[0.3333333333333333,\"#9c179e\"],[0.4444444444444444,\"#bd3786\"],[0.5555555555555556,\"#d8576b\"],[0.6666666666666666,\"#ed7953\"],[0.7777777777777778,\"#fb9f3a\"],[0.8888888888888888,\"#fdca26\"],[1.0,\"#f0f921\"]],\"diverging\":[[0,\"#8e0152\"],[0.1,\"#c51b7d\"],[0.2,\"#de77ae\"],[0.3,\"#f1b6da\"],[0.4,\"#fde0ef\"],[0.5,\"#f7f7f7\"],[0.6,\"#e6f5d0\"],[0.7,\"#b8e186\"],[0.8,\"#7fbc41\"],[0.9,\"#4d9221\"],[1,\"#276419\"]]},\"xaxis\":{\"gridcolor\":\"white\",\"linecolor\":\"white\",\"ticks\":\"\",\"title\":{\"standoff\":15},\"zerolinecolor\":\"white\",\"automargin\":true,\"zerolinewidth\":2},\"yaxis\":{\"gridcolor\":\"white\",\"linecolor\":\"white\",\"ticks\":\"\",\"title\":{\"standoff\":15},\"zerolinecolor\":\"white\",\"automargin\":true,\"zerolinewidth\":2},\"scene\":{\"xaxis\":{\"backgroundcolor\":\"#E5ECF6\",\"gridcolor\":\"white\",\"linecolor\":\"white\",\"showbackground\":true,\"ticks\":\"\",\"zerolinecolor\":\"white\",\"gridwidth\":2},\"yaxis\":{\"backgroundcolor\":\"#E5ECF6\",\"gridcolor\":\"white\",\"linecolor\":\"white\",\"showbackground\":true,\"ticks\":\"\",\"zerolinecolor\":\"white\",\"gridwidth\":2},\"zaxis\":{\"backgroundcolor\":\"#E5ECF6\",\"gridcolor\":\"white\",\"linecolor\":\"white\",\"showbackground\":true,\"ticks\":\"\",\"zerolinecolor\":\"white\",\"gridwidth\":2}},\"shapedefaults\":{\"line\":{\"color\":\"#2a3f5f\"}},\"annotationdefaults\":{\"arrowcolor\":\"#2a3f5f\",\"arrowhead\":0,\"arrowwidth\":1},\"geo\":{\"bgcolor\":\"white\",\"landcolor\":\"#E5ECF6\",\"subunitcolor\":\"white\",\"showland\":true,\"showlakes\":true,\"lakecolor\":\"white\"},\"title\":{\"x\":0.05},\"mapbox\":{\"style\":\"light\"}}},\"mapbox\":{\"domain\":{\"x\":[0.0,1.0],\"y\":[0.0,1.0]},\"center\":{\"lat\":6.546370456559999,\"lon\":-75.54571028560002},\"zoom\":6.2,\"style\":\"carto-positron\"},\"coloraxis\":{\"colorbar\":{\"title\":{\"text\":\"numeroatenciones\"}},\"colorscale\":[[0.0,\"rgb(158,1,66)\"],[0.1,\"rgb(213,62,79)\"],[0.2,\"rgb(244,109,67)\"],[0.3,\"rgb(253,174,97)\"],[0.4,\"rgb(254,224,139)\"],[0.5,\"rgb(255,255,191)\"],[0.6,\"rgb(230,245,152)\"],[0.7,\"rgb(171,221,164)\"],[0.8,\"rgb(102,194,165)\"],[0.9,\"rgb(50,136,189)\"],[1.0,\"rgb(94,79,162)\"]]},\"legend\":{\"tracegroupgap\":0,\"itemsizing\":\"constant\"},\"title\":{\"text\":\"Atenciones m\\u00e9dicas por municipio (tama\\u00f1o normalizado)\"},\"height\":600},                        {\"responsive\": true}                    ).then(function(){\n",
       "                            \n",
       "var gd = document.getElementById('4d45f021-9833-4e2d-beb9-1b86010a2022');\n",
       "var x = new MutationObserver(function (mutations, observer) {{\n",
       "        var display = window.getComputedStyle(gd).display;\n",
       "        if (!display || display === 'none') {{\n",
       "            console.log([gd, 'removed!']);\n",
       "            Plotly.purge(gd);\n",
       "            observer.disconnect();\n",
       "        }}\n",
       "}});\n",
       "\n",
       "// Listen for the removal of the full notebook cells\n",
       "var notebookContainer = gd.closest('#notebook-container');\n",
       "if (notebookContainer) {{\n",
       "    x.observe(notebookContainer, {childList: true});\n",
       "}}\n",
       "\n",
       "// Listen for the clearing of the current output cell\n",
       "var outputEl = gd.closest('.output');\n",
       "if (outputEl) {{\n",
       "    x.observe(outputEl, {childList: true});\n",
       "}}\n",
       "\n",
       "                        })                };                });            </script>        </div>"
      ]
     },
     "metadata": {},
     "output_type": "display_data"
    }
   ],
   "source": [
    "min_size = 15\n",
    "max_size = 50\n",
    "\n",
    "df_map[\"size_normalized\"] = df_map[\"numeroatenciones\"].apply(\n",
    "    lambda x: min_size + (max_size - min_size) * (x - df_map[\"numeroatenciones\"].min()) / (df_map[\"numeroatenciones\"].max() - df_map[\"numeroatenciones\"].min())\n",
    ")\n",
    "\n",
    "fig = px.scatter_mapbox(\n",
    "    df_map,\n",
    "    lat=\"latitud\",\n",
    "    lon=\"longitud\",\n",
    "    size=\"size_normalized\",\n",
    "    hover_name=\"nom_mpio\",\n",
    "    hover_data=[\"numeroatenciones\"],\n",
    "    color=\"numeroatenciones\",\n",
    "    color_continuous_scale=\"spectral\",\n",
    "    zoom=6.2,\n",
    "    height=600,\n",
    "    mapbox_style=\"carto-positron\",\n",
    "    title=\"Atenciones médicas por municipio (tamaño normalizado)\"\n",
    ")\n",
    "fig.show()\n"
   ]
  }
 ],
 "metadata": {
  "kernelspec": {
   "display_name": "env",
   "language": "python",
   "name": "python3"
  },
  "language_info": {
   "codemirror_mode": {
    "name": "ipython",
    "version": 3
   },
   "file_extension": ".py",
   "mimetype": "text/x-python",
   "name": "python",
   "nbconvert_exporter": "python",
   "pygments_lexer": "ipython3",
   "version": "3.10.12"
  }
 },
 "nbformat": 4,
 "nbformat_minor": 5
}
